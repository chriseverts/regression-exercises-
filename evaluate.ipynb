{
 "cells": [
  {
   "cell_type": "code",
   "execution_count": 1,
   "id": "9abc6406",
   "metadata": {},
   "outputs": [],
   "source": [
    "\n",
    "import warnings\n",
    "warnings.filterwarnings(\"ignore\")\n",
    "import numpy as np\n",
    "import pandas as pd\n",
    "import seaborn as sns\n",
    "import matplotlib.pyplot as plt\n",
    "from pydataset import data\n",
    "from statsmodels.formula.api import ols\n",
    "\n",
    "from scipy import stats\n",
    "from sklearn.metrics import mean_squared_error, r2_score, explained_variance_score\n",
    "\n",
    "from sklearn.linear_model import LinearRegression\n",
    "from sklearn.feature_selection import f_regression \n",
    "from sklearn.metrics import mean_squared_error\n",
    "from math import sqrt\n",
    "import matplotlib.pyplot as plt"
   ]
  },
  {
   "cell_type": "code",
   "execution_count": 2,
   "id": "fcc251ba",
   "metadata": {},
   "outputs": [],
   "source": [
    "tips = data('tips')"
   ]
  },
  {
   "cell_type": "code",
   "execution_count": 3,
   "id": "105a88fa",
   "metadata": {},
   "outputs": [
    {
     "data": {
      "text/html": [
       "<div>\n",
       "<style scoped>\n",
       "    .dataframe tbody tr th:only-of-type {\n",
       "        vertical-align: middle;\n",
       "    }\n",
       "\n",
       "    .dataframe tbody tr th {\n",
       "        vertical-align: top;\n",
       "    }\n",
       "\n",
       "    .dataframe thead th {\n",
       "        text-align: right;\n",
       "    }\n",
       "</style>\n",
       "<table border=\"1\" class=\"dataframe\">\n",
       "  <thead>\n",
       "    <tr style=\"text-align: right;\">\n",
       "      <th></th>\n",
       "      <th>total_bill</th>\n",
       "      <th>tip</th>\n",
       "      <th>sex</th>\n",
       "      <th>smoker</th>\n",
       "      <th>day</th>\n",
       "      <th>time</th>\n",
       "      <th>size</th>\n",
       "    </tr>\n",
       "  </thead>\n",
       "  <tbody>\n",
       "    <tr>\n",
       "      <th>1</th>\n",
       "      <td>16.99</td>\n",
       "      <td>1.01</td>\n",
       "      <td>Female</td>\n",
       "      <td>No</td>\n",
       "      <td>Sun</td>\n",
       "      <td>Dinner</td>\n",
       "      <td>2</td>\n",
       "    </tr>\n",
       "    <tr>\n",
       "      <th>2</th>\n",
       "      <td>10.34</td>\n",
       "      <td>1.66</td>\n",
       "      <td>Male</td>\n",
       "      <td>No</td>\n",
       "      <td>Sun</td>\n",
       "      <td>Dinner</td>\n",
       "      <td>3</td>\n",
       "    </tr>\n",
       "    <tr>\n",
       "      <th>3</th>\n",
       "      <td>21.01</td>\n",
       "      <td>3.50</td>\n",
       "      <td>Male</td>\n",
       "      <td>No</td>\n",
       "      <td>Sun</td>\n",
       "      <td>Dinner</td>\n",
       "      <td>3</td>\n",
       "    </tr>\n",
       "    <tr>\n",
       "      <th>4</th>\n",
       "      <td>23.68</td>\n",
       "      <td>3.31</td>\n",
       "      <td>Male</td>\n",
       "      <td>No</td>\n",
       "      <td>Sun</td>\n",
       "      <td>Dinner</td>\n",
       "      <td>2</td>\n",
       "    </tr>\n",
       "    <tr>\n",
       "      <th>5</th>\n",
       "      <td>24.59</td>\n",
       "      <td>3.61</td>\n",
       "      <td>Female</td>\n",
       "      <td>No</td>\n",
       "      <td>Sun</td>\n",
       "      <td>Dinner</td>\n",
       "      <td>4</td>\n",
       "    </tr>\n",
       "  </tbody>\n",
       "</table>\n",
       "</div>"
      ],
      "text/plain": [
       "   total_bill   tip     sex smoker  day    time  size\n",
       "1       16.99  1.01  Female     No  Sun  Dinner     2\n",
       "2       10.34  1.66    Male     No  Sun  Dinner     3\n",
       "3       21.01  3.50    Male     No  Sun  Dinner     3\n",
       "4       23.68  3.31    Male     No  Sun  Dinner     2\n",
       "5       24.59  3.61  Female     No  Sun  Dinner     4"
      ]
     },
     "execution_count": 3,
     "metadata": {},
     "output_type": "execute_result"
    }
   ],
   "source": [
    "tips.head()"
   ]
  },
  {
   "cell_type": "markdown",
   "id": "c5b1e5b3",
   "metadata": {},
   "source": [
    "2.) Fit a linear regression model (ordinary least squares) and compute yhat, predictions of tip using total_bill."
   ]
  },
  {
   "cell_type": "code",
   "execution_count": 4,
   "id": "6fbb4d66",
   "metadata": {},
   "outputs": [],
   "source": [
    "x = tips['total_bill']\n",
    "y = tips['tip']"
   ]
  },
  {
   "cell_type": "code",
   "execution_count": 5,
   "id": "e9758bb3",
   "metadata": {},
   "outputs": [],
   "source": [
    "tips['yhat_baseline']=tips['tip'].mean()"
   ]
  },
  {
   "cell_type": "code",
   "execution_count": 6,
   "id": "7fd7dd5e",
   "metadata": {},
   "outputs": [
    {
     "data": {
      "text/html": [
       "<div>\n",
       "<style scoped>\n",
       "    .dataframe tbody tr th:only-of-type {\n",
       "        vertical-align: middle;\n",
       "    }\n",
       "\n",
       "    .dataframe tbody tr th {\n",
       "        vertical-align: top;\n",
       "    }\n",
       "\n",
       "    .dataframe thead th {\n",
       "        text-align: right;\n",
       "    }\n",
       "</style>\n",
       "<table border=\"1\" class=\"dataframe\">\n",
       "  <thead>\n",
       "    <tr style=\"text-align: right;\">\n",
       "      <th></th>\n",
       "      <th>total_bill</th>\n",
       "      <th>tip</th>\n",
       "      <th>sex</th>\n",
       "      <th>smoker</th>\n",
       "      <th>day</th>\n",
       "      <th>time</th>\n",
       "      <th>size</th>\n",
       "      <th>yhat_baseline</th>\n",
       "    </tr>\n",
       "  </thead>\n",
       "  <tbody>\n",
       "    <tr>\n",
       "      <th>1</th>\n",
       "      <td>16.99</td>\n",
       "      <td>1.01</td>\n",
       "      <td>Female</td>\n",
       "      <td>No</td>\n",
       "      <td>Sun</td>\n",
       "      <td>Dinner</td>\n",
       "      <td>2</td>\n",
       "      <td>2.998279</td>\n",
       "    </tr>\n",
       "    <tr>\n",
       "      <th>2</th>\n",
       "      <td>10.34</td>\n",
       "      <td>1.66</td>\n",
       "      <td>Male</td>\n",
       "      <td>No</td>\n",
       "      <td>Sun</td>\n",
       "      <td>Dinner</td>\n",
       "      <td>3</td>\n",
       "      <td>2.998279</td>\n",
       "    </tr>\n",
       "    <tr>\n",
       "      <th>3</th>\n",
       "      <td>21.01</td>\n",
       "      <td>3.50</td>\n",
       "      <td>Male</td>\n",
       "      <td>No</td>\n",
       "      <td>Sun</td>\n",
       "      <td>Dinner</td>\n",
       "      <td>3</td>\n",
       "      <td>2.998279</td>\n",
       "    </tr>\n",
       "    <tr>\n",
       "      <th>4</th>\n",
       "      <td>23.68</td>\n",
       "      <td>3.31</td>\n",
       "      <td>Male</td>\n",
       "      <td>No</td>\n",
       "      <td>Sun</td>\n",
       "      <td>Dinner</td>\n",
       "      <td>2</td>\n",
       "      <td>2.998279</td>\n",
       "    </tr>\n",
       "    <tr>\n",
       "      <th>5</th>\n",
       "      <td>24.59</td>\n",
       "      <td>3.61</td>\n",
       "      <td>Female</td>\n",
       "      <td>No</td>\n",
       "      <td>Sun</td>\n",
       "      <td>Dinner</td>\n",
       "      <td>4</td>\n",
       "      <td>2.998279</td>\n",
       "    </tr>\n",
       "  </tbody>\n",
       "</table>\n",
       "</div>"
      ],
      "text/plain": [
       "   total_bill   tip     sex smoker  day    time  size  yhat_baseline\n",
       "1       16.99  1.01  Female     No  Sun  Dinner     2       2.998279\n",
       "2       10.34  1.66    Male     No  Sun  Dinner     3       2.998279\n",
       "3       21.01  3.50    Male     No  Sun  Dinner     3       2.998279\n",
       "4       23.68  3.31    Male     No  Sun  Dinner     2       2.998279\n",
       "5       24.59  3.61  Female     No  Sun  Dinner     4       2.998279"
      ]
     },
     "execution_count": 6,
     "metadata": {},
     "output_type": "execute_result"
    }
   ],
   "source": [
    "tips.head()"
   ]
  },
  {
   "cell_type": "code",
   "execution_count": 7,
   "id": "7dbbd1e9",
   "metadata": {},
   "outputs": [],
   "source": [
    "model = LinearRegression().fit(tips[['total_bill']], tips[['tip']])\n",
    "tips['yhat'] = model.predict(tips[['total_bill']])"
   ]
  },
  {
   "cell_type": "code",
   "execution_count": 8,
   "id": "2d181733",
   "metadata": {},
   "outputs": [
    {
     "data": {
      "text/html": [
       "<div>\n",
       "<style scoped>\n",
       "    .dataframe tbody tr th:only-of-type {\n",
       "        vertical-align: middle;\n",
       "    }\n",
       "\n",
       "    .dataframe tbody tr th {\n",
       "        vertical-align: top;\n",
       "    }\n",
       "\n",
       "    .dataframe thead th {\n",
       "        text-align: right;\n",
       "    }\n",
       "</style>\n",
       "<table border=\"1\" class=\"dataframe\">\n",
       "  <thead>\n",
       "    <tr style=\"text-align: right;\">\n",
       "      <th></th>\n",
       "      <th>total_bill</th>\n",
       "      <th>tip</th>\n",
       "      <th>sex</th>\n",
       "      <th>smoker</th>\n",
       "      <th>day</th>\n",
       "      <th>time</th>\n",
       "      <th>size</th>\n",
       "      <th>yhat_baseline</th>\n",
       "      <th>yhat</th>\n",
       "    </tr>\n",
       "  </thead>\n",
       "  <tbody>\n",
       "    <tr>\n",
       "      <th>1</th>\n",
       "      <td>16.99</td>\n",
       "      <td>1.01</td>\n",
       "      <td>Female</td>\n",
       "      <td>No</td>\n",
       "      <td>Sun</td>\n",
       "      <td>Dinner</td>\n",
       "      <td>2</td>\n",
       "      <td>2.998279</td>\n",
       "      <td>2.704636</td>\n",
       "    </tr>\n",
       "    <tr>\n",
       "      <th>2</th>\n",
       "      <td>10.34</td>\n",
       "      <td>1.66</td>\n",
       "      <td>Male</td>\n",
       "      <td>No</td>\n",
       "      <td>Sun</td>\n",
       "      <td>Dinner</td>\n",
       "      <td>3</td>\n",
       "      <td>2.998279</td>\n",
       "      <td>2.006223</td>\n",
       "    </tr>\n",
       "    <tr>\n",
       "      <th>3</th>\n",
       "      <td>21.01</td>\n",
       "      <td>3.50</td>\n",
       "      <td>Male</td>\n",
       "      <td>No</td>\n",
       "      <td>Sun</td>\n",
       "      <td>Dinner</td>\n",
       "      <td>3</td>\n",
       "      <td>2.998279</td>\n",
       "      <td>3.126835</td>\n",
       "    </tr>\n",
       "    <tr>\n",
       "      <th>4</th>\n",
       "      <td>23.68</td>\n",
       "      <td>3.31</td>\n",
       "      <td>Male</td>\n",
       "      <td>No</td>\n",
       "      <td>Sun</td>\n",
       "      <td>Dinner</td>\n",
       "      <td>2</td>\n",
       "      <td>2.998279</td>\n",
       "      <td>3.407250</td>\n",
       "    </tr>\n",
       "    <tr>\n",
       "      <th>5</th>\n",
       "      <td>24.59</td>\n",
       "      <td>3.61</td>\n",
       "      <td>Female</td>\n",
       "      <td>No</td>\n",
       "      <td>Sun</td>\n",
       "      <td>Dinner</td>\n",
       "      <td>4</td>\n",
       "      <td>2.998279</td>\n",
       "      <td>3.502822</td>\n",
       "    </tr>\n",
       "  </tbody>\n",
       "</table>\n",
       "</div>"
      ],
      "text/plain": [
       "   total_bill   tip     sex smoker  day    time  size  yhat_baseline      yhat\n",
       "1       16.99  1.01  Female     No  Sun  Dinner     2       2.998279  2.704636\n",
       "2       10.34  1.66    Male     No  Sun  Dinner     3       2.998279  2.006223\n",
       "3       21.01  3.50    Male     No  Sun  Dinner     3       2.998279  3.126835\n",
       "4       23.68  3.31    Male     No  Sun  Dinner     2       2.998279  3.407250\n",
       "5       24.59  3.61  Female     No  Sun  Dinner     4       2.998279  3.502822"
      ]
     },
     "execution_count": 8,
     "metadata": {},
     "output_type": "execute_result"
    }
   ],
   "source": [
    "tips.head()"
   ]
  },
  {
   "cell_type": "code",
   "execution_count": 9,
   "id": "12fef709",
   "metadata": {},
   "outputs": [],
   "source": [
    "tips['residual'] =tips['yhat'] - tips['tip']\n",
    "tips['residual_baseline']=tips['yhat_baseline'] - tips['tip']\n"
   ]
  },
  {
   "cell_type": "code",
   "execution_count": 10,
   "id": "7123cdd3",
   "metadata": {},
   "outputs": [
    {
     "data": {
      "text/html": [
       "<div>\n",
       "<style scoped>\n",
       "    .dataframe tbody tr th:only-of-type {\n",
       "        vertical-align: middle;\n",
       "    }\n",
       "\n",
       "    .dataframe tbody tr th {\n",
       "        vertical-align: top;\n",
       "    }\n",
       "\n",
       "    .dataframe thead th {\n",
       "        text-align: right;\n",
       "    }\n",
       "</style>\n",
       "<table border=\"1\" class=\"dataframe\">\n",
       "  <thead>\n",
       "    <tr style=\"text-align: right;\">\n",
       "      <th></th>\n",
       "      <th>total_bill</th>\n",
       "      <th>tip</th>\n",
       "      <th>sex</th>\n",
       "      <th>smoker</th>\n",
       "      <th>day</th>\n",
       "      <th>time</th>\n",
       "      <th>size</th>\n",
       "      <th>yhat_baseline</th>\n",
       "      <th>yhat</th>\n",
       "      <th>residual</th>\n",
       "      <th>residual_baseline</th>\n",
       "    </tr>\n",
       "  </thead>\n",
       "  <tbody>\n",
       "    <tr>\n",
       "      <th>1</th>\n",
       "      <td>16.99</td>\n",
       "      <td>1.01</td>\n",
       "      <td>Female</td>\n",
       "      <td>No</td>\n",
       "      <td>Sun</td>\n",
       "      <td>Dinner</td>\n",
       "      <td>2</td>\n",
       "      <td>2.998279</td>\n",
       "      <td>2.704636</td>\n",
       "      <td>1.694636</td>\n",
       "      <td>1.988279</td>\n",
       "    </tr>\n",
       "    <tr>\n",
       "      <th>2</th>\n",
       "      <td>10.34</td>\n",
       "      <td>1.66</td>\n",
       "      <td>Male</td>\n",
       "      <td>No</td>\n",
       "      <td>Sun</td>\n",
       "      <td>Dinner</td>\n",
       "      <td>3</td>\n",
       "      <td>2.998279</td>\n",
       "      <td>2.006223</td>\n",
       "      <td>0.346223</td>\n",
       "      <td>1.338279</td>\n",
       "    </tr>\n",
       "    <tr>\n",
       "      <th>3</th>\n",
       "      <td>21.01</td>\n",
       "      <td>3.50</td>\n",
       "      <td>Male</td>\n",
       "      <td>No</td>\n",
       "      <td>Sun</td>\n",
       "      <td>Dinner</td>\n",
       "      <td>3</td>\n",
       "      <td>2.998279</td>\n",
       "      <td>3.126835</td>\n",
       "      <td>-0.373165</td>\n",
       "      <td>-0.501721</td>\n",
       "    </tr>\n",
       "    <tr>\n",
       "      <th>4</th>\n",
       "      <td>23.68</td>\n",
       "      <td>3.31</td>\n",
       "      <td>Male</td>\n",
       "      <td>No</td>\n",
       "      <td>Sun</td>\n",
       "      <td>Dinner</td>\n",
       "      <td>2</td>\n",
       "      <td>2.998279</td>\n",
       "      <td>3.407250</td>\n",
       "      <td>0.097250</td>\n",
       "      <td>-0.311721</td>\n",
       "    </tr>\n",
       "    <tr>\n",
       "      <th>5</th>\n",
       "      <td>24.59</td>\n",
       "      <td>3.61</td>\n",
       "      <td>Female</td>\n",
       "      <td>No</td>\n",
       "      <td>Sun</td>\n",
       "      <td>Dinner</td>\n",
       "      <td>4</td>\n",
       "      <td>2.998279</td>\n",
       "      <td>3.502822</td>\n",
       "      <td>-0.107178</td>\n",
       "      <td>-0.611721</td>\n",
       "    </tr>\n",
       "  </tbody>\n",
       "</table>\n",
       "</div>"
      ],
      "text/plain": [
       "   total_bill   tip     sex smoker  day    time  size  yhat_baseline  \\\n",
       "1       16.99  1.01  Female     No  Sun  Dinner     2       2.998279   \n",
       "2       10.34  1.66    Male     No  Sun  Dinner     3       2.998279   \n",
       "3       21.01  3.50    Male     No  Sun  Dinner     3       2.998279   \n",
       "4       23.68  3.31    Male     No  Sun  Dinner     2       2.998279   \n",
       "5       24.59  3.61  Female     No  Sun  Dinner     4       2.998279   \n",
       "\n",
       "       yhat  residual  residual_baseline  \n",
       "1  2.704636  1.694636           1.988279  \n",
       "2  2.006223  0.346223           1.338279  \n",
       "3  3.126835 -0.373165          -0.501721  \n",
       "4  3.407250  0.097250          -0.311721  \n",
       "5  3.502822 -0.107178          -0.611721  "
      ]
     },
     "execution_count": 10,
     "metadata": {},
     "output_type": "execute_result"
    }
   ],
   "source": [
    "tips.head()"
   ]
  },
  {
   "cell_type": "code",
   "execution_count": 11,
   "id": "98661a2c",
   "metadata": {},
   "outputs": [
    {
     "data": {
      "image/png": "[encoded data removed]",
      "text/plain": [
       "<Figure size 432x288 with 1 Axes>"
      ]
     },
     "metadata": {
      "needs_background": "light"
     },
     "output_type": "display_data"
    }
   ],
   "source": [
    "plt.scatter(x = 'total_bill', y = 'residual_baseline', data = tips)\n",
    "plt.title('Baseline Residuals')\n",
    "plt.axhline(y = 0)\n",
    "plt.show()"
   ]
  },
  {
   "cell_type": "code",
   "execution_count": 12,
   "id": "4420f0e6",
   "metadata": {},
   "outputs": [
    {
     "data": {
      "image/png": "[encoded data removed]",
      "text/plain": [
       "<Figure size 432x288 with 1 Axes>"
      ]
     },
     "metadata": {
      "needs_background": "light"
     },
     "output_type": "display_data"
    }
   ],
   "source": [
    "plt.scatter(x='total_bill', y='residual', data = tips)\n",
    "plt.title('Residuals')\n",
    "plt.axhline(y=0)\n",
    "plt.show()"
   ]
  },
  {
   "cell_type": "markdown",
   "id": "9b8e3c2a",
   "metadata": {},
   "source": [
    "4.) Calculate the sum of squared errors, explained sum of squares, total sum of squares, mean squared error, and root mean squared error for your model."
   ]
  },
  {
   "cell_type": "code",
   "execution_count": 13,
   "id": "72d46738",
   "metadata": {},
   "outputs": [],
   "source": [
    "#sum of squared errors\n",
    "from sklearn.metrics import mean_squared_error"
   ]
  },
  {
   "cell_type": "code",
   "execution_count": 14,
   "id": "d688c081",
   "metadata": {},
   "outputs": [],
   "source": [
    "SSE = mean_squared_error(tips.tip, tips.yhat)*len(tips)\n",
    "SSE_baseline = mean_squared_error(tips.tip, tips.yhat_baseline)*len(tips)"
   ]
  },
  {
   "cell_type": "code",
   "execution_count": 15,
   "id": "6530c675",
   "metadata": {},
   "outputs": [
    {
     "name": "stdout",
     "output_type": "stream",
     "text": [
      "sum of squared errors is 252.788743850776\n",
      "sum of squared errors for baseline is or our total sum of squares is 465.2124770491804\n"
     ]
    }
   ],
   "source": [
    "print(f'sum of squared errors is {SSE}')\n",
    "print(f'sum of squared errors for baseline is or our total sum of squares is {SSE_baseline}')"
   ]
  },
  {
   "cell_type": "code",
   "execution_count": 16,
   "id": "7bc9135e",
   "metadata": {},
   "outputs": [],
   "source": [
    "#explained sum of squares"
   ]
  },
  {
   "cell_type": "code",
   "execution_count": 17,
   "id": "28367192",
   "metadata": {},
   "outputs": [
    {
     "data": {
      "text/plain": [
       "212.4237331984042"
      ]
     },
     "execution_count": 17,
     "metadata": {},
     "output_type": "execute_result"
    }
   ],
   "source": [
    "ESS = sum((tips.yhat - tips.tip.mean())**2)\n",
    "ESS"
   ]
  },
  {
   "cell_type": "code",
   "execution_count": 18,
   "id": "506793ec",
   "metadata": {},
   "outputs": [
    {
     "name": "stdout",
     "output_type": "stream",
     "text": [
      "explained sum of squares is 212.4237331984042\n"
     ]
    }
   ],
   "source": [
    "print(f'explained sum of squares is {ESS}')"
   ]
  },
  {
   "cell_type": "code",
   "execution_count": 19,
   "id": "c2f6700c",
   "metadata": {},
   "outputs": [
    {
     "name": "stdout",
     "output_type": "stream",
     "text": [
      "total sum of squares is 465.21247704918017\n"
     ]
    }
   ],
   "source": [
    "#total sum of squares\n",
    "TSS = ESS + SSE\n",
    "print(f'total sum of squares is {TSS}')"
   ]
  },
  {
   "cell_type": "code",
   "execution_count": 20,
   "id": "20a71d68",
   "metadata": {},
   "outputs": [],
   "source": [
    "#Our model is performing better than the baseline since it is a lower number/closer to zero."
   ]
  },
  {
   "cell_type": "code",
   "execution_count": 21,
   "id": "2bc0b20f",
   "metadata": {},
   "outputs": [],
   "source": [
    "#mean squared error\n",
    "MSE = mean_squared_error(tips.tip, tips.yhat)\n",
    "MSE_baseline = mean_squared_error(tips.tip, tips.yhat_baseline)"
   ]
  },
  {
   "cell_type": "code",
   "execution_count": 22,
   "id": "a67ffa50",
   "metadata": {},
   "outputs": [
    {
     "name": "stdout",
     "output_type": "stream",
     "text": [
      "mean squared of error for our model is 1.036019442011377\n",
      "mean squared of error for our baseline is 1.906608512496641\n"
     ]
    }
   ],
   "source": [
    "print(f'mean squared of error for our model is {MSE}')\n",
    "print(f'mean squared of error for our baseline is {MSE_baseline}')"
   ]
  },
  {
   "cell_type": "code",
   "execution_count": 23,
   "id": "017eb441",
   "metadata": {},
   "outputs": [],
   "source": [
    "#our model is performing better than the baseline, it is a lower number/closer to zero."
   ]
  },
  {
   "cell_type": "code",
   "execution_count": 24,
   "id": "bc589658",
   "metadata": {},
   "outputs": [],
   "source": [
    "#root mean squared of error"
   ]
  },
  {
   "cell_type": "code",
   "execution_count": 25,
   "id": "2bcda6e0",
   "metadata": {},
   "outputs": [],
   "source": [
    "from math import sqrt"
   ]
  },
  {
   "cell_type": "code",
   "execution_count": 26,
   "id": "2a8f65f5",
   "metadata": {},
   "outputs": [],
   "source": [
    "RMSE = sqrt(MSE)\n",
    "RMSE_baseline = sqrt(MSE_baseline)"
   ]
  },
  {
   "cell_type": "code",
   "execution_count": 27,
   "id": "df1d5e1a",
   "metadata": {},
   "outputs": [
    {
     "name": "stdout",
     "output_type": "stream",
     "text": [
      "Root mean squared of error for our model is 1.0178504025697377\n",
      "Root mean squared of error for our baseline is 1.3807999538298954\n"
     ]
    }
   ],
   "source": [
    "print(f'Root mean squared of error for our model is {RMSE}')\n",
    "print(f'Root mean squared of error for our baseline is {RMSE_baseline}')"
   ]
  },
  {
   "cell_type": "code",
   "execution_count": 28,
   "id": "0606c433",
   "metadata": {},
   "outputs": [],
   "source": [
    "#our model is still better, it is a lower number."
   ]
  },
  {
   "cell_type": "markdown",
   "id": "ce49c794",
   "metadata": {},
   "source": [
    "5.) Calculate the sum of squared errors, mean squared error, and root mean squared error for the baseline model (i.e. a model that always predicts the average tip amount)"
   ]
  },
  {
   "cell_type": "code",
   "execution_count": 29,
   "id": "fb974ce9",
   "metadata": {},
   "outputs": [
    {
     "name": "stdout",
     "output_type": "stream",
     "text": [
      "sum of squared errors for baseline is or our total sum of squares is 465.2124770491804\n",
      "mean squared of error for our baseline is 1.906608512496641\n",
      "Root mean squared of error for our baseline is 1.3807999538298954\n"
     ]
    }
   ],
   "source": [
    "#sum of squares baseline\n",
    "SSE_baseline = mean_squared_error(tips.tip, tips.yhat_baseline)*len(tips)\n",
    "print(f'sum of squared errors for baseline is or our total sum of squares is {SSE_baseline}')\n",
    "\n",
    "#mean squared error baseline\n",
    "MSE_baseline = mean_squared_error(tips.tip, tips.yhat_baseline)\n",
    "print(f'mean squared of error for our baseline is {MSE_baseline}')\n",
    "\n",
    "#root mean squared error for baseline\n",
    "RMSE_baseline = sqrt(MSE_baseline)\n",
    "print(f'Root mean squared of error for our baseline is {RMSE_baseline}')"
   ]
  },
  {
   "cell_type": "markdown",
   "id": "7ffc0d10",
   "metadata": {},
   "source": [
    "6.) Write python code that compares the sum of squared errors for your model against the sum of squared errors for the baseline model and outputs whether or not your model performs better than the baseline model."
   ]
  },
  {
   "cell_type": "code",
   "execution_count": 30,
   "id": "23c21de9",
   "metadata": {},
   "outputs": [],
   "source": [
    "def SSE_compare(SSE, SSE_baseline):\n",
    "    if SSE < SSE_baseline:\n",
    "        return print('Our model performs better than the baseline')\n",
    "        \n",
    "    else:\n",
    "        print('Our model is not better than the baseline')"
   ]
  },
  {
   "cell_type": "code",
   "execution_count": 31,
   "id": "8ea168a6",
   "metadata": {},
   "outputs": [
    {
     "name": "stdout",
     "output_type": "stream",
     "text": [
      "Our model performs better than the baseline\n"
     ]
    }
   ],
   "source": [
    "SSE_compare(SSE, SSE_baseline)\n"
   ]
  },
  {
   "cell_type": "markdown",
   "id": "922201d9",
   "metadata": {},
   "source": [
    "7.) What is the amount of variance explained in your model?"
   ]
  },
  {
   "cell_type": "code",
   "execution_count": 32,
   "id": "9785311e",
   "metadata": {},
   "outputs": [
    {
     "data": {
      "text/plain": [
       "0.4566165863516763"
      ]
     },
     "execution_count": 32,
     "metadata": {},
     "output_type": "execute_result"
    }
   ],
   "source": [
    "#variance\n",
    "R2 = ESS/TSS\n",
    "R2"
   ]
  },
  {
   "cell_type": "code",
   "execution_count": 69,
   "id": "8e65dcf9",
   "metadata": {},
   "outputs": [
    {
     "name": "stdout",
     "output_type": "stream",
     "text": [
      "R-squared =  0.457\n",
      "Percent of variance in y explained by x =  45.7 %\n"
     ]
    }
   ],
   "source": [
    "print('R-squared = ',round(R2,3))\n",
    "print(\"Percent of variance in y explained by x = \", round(R2*100,1), \"%\")"
   ]
  },
  {
   "cell_type": "code",
   "execution_count": 70,
   "id": "34de9d2e",
   "metadata": {},
   "outputs": [
    {
     "data": {
      "text/plain": [
       "0.5867866723989039"
      ]
     },
     "execution_count": 70,
     "metadata": {},
     "output_type": "execute_result"
    }
   ],
   "source": [
    "#also variance\n",
    "R2 = model.rsquared\n",
    "R2"
   ]
  },
  {
   "cell_type": "code",
   "execution_count": 71,
   "id": "dffbd69d",
   "metadata": {},
   "outputs": [
    {
     "data": {
      "text/plain": [
       "0.4566165863516767"
      ]
     },
     "execution_count": 71,
     "metadata": {},
     "output_type": "execute_result"
    }
   ],
   "source": [
    "#ALSO variance\n",
    "evs = explained_variance_score(tips.tip, tips.yhat)\n",
    "evs"
   ]
  },
  {
   "cell_type": "code",
   "execution_count": 72,
   "id": "f931f674",
   "metadata": {},
   "outputs": [
    {
     "name": "stdout",
     "output_type": "stream",
     "text": [
      "The amount of variance explained in our model is 0.59\n"
     ]
    }
   ],
   "source": [
    "print(f'The amount of variance explained in our model is {round(R2,2)}')"
   ]
  },
  {
   "cell_type": "markdown",
   "id": "76cc6427",
   "metadata": {},
   "source": [
    "8.) Is your model significantly better than the baseline model?"
   ]
  },
  {
   "cell_type": "code",
   "execution_count": 73,
   "id": "7d38ac7a",
   "metadata": {},
   "outputs": [
    {
     "name": "stdout",
     "output_type": "stream",
     "text": [
      "our p-value for our model's significance is 2.0389744555910457e-46\n"
     ]
    }
   ],
   "source": [
    "f_pval = model.f_pvalue\n",
    "print(f\"our p-value for our model's significance is {f_pval}\")"
   ]
  },
  {
   "cell_type": "markdown",
   "id": "b3d47e80",
   "metadata": {},
   "source": [
    "9.) Create a file named evaluate.py that contains the following functions."
   ]
  },
  {
   "cell_type": "code",
   "execution_count": 74,
   "id": "20cf0f41",
   "metadata": {},
   "outputs": [],
   "source": [
    "#plot_residuals(y, yhat): creates a residual plot\n",
    "\n",
    "def plot_residuals(y,yhat):\n",
    "    residuals = y - yhat\n",
    "    plt.scatter(y, residuals)\n",
    "    plt.axhline(y=0, color='black')\n",
    "    plt.show()"
   ]
  },
  {
   "cell_type": "code",
   "execution_count": 75,
   "id": "f509288d",
   "metadata": {},
   "outputs": [
    {
     "data": {
      "image/png": "[encoded data removed]",
      "text/plain": [
       "<Figure size 432x288 with 1 Axes>"
      ]
     },
     "metadata": {
      "needs_background": "light"
     },
     "output_type": "display_data"
    }
   ],
   "source": [
    "plot_residuals(tips.tip, tips.yhat)"
   ]
  },
  {
   "cell_type": "code",
   "execution_count": 76,
   "id": "df9b48eb",
   "metadata": {},
   "outputs": [],
   "source": [
    "def regression_errors(y, yhat):\n",
    "    import sklearn.metrics\n",
    "    import math\n",
    "    residuals = yhat - y\n",
    "    residuals_squared = sum(residuals**2)\n",
    "    SSE = residuals_squared\n",
    "    print(f' SSE is {SSE}')\n",
    "    \n",
    "    ESS = sum((yhat - y.mean())**2)\n",
    "    print(f'ESS is {ESS}')\n",
    "    \n",
    "    TSS = ESS + SSE\n",
    "    print(f'TSS is {TSS}')\n",
    "    \n",
    "    MSE = sklearn.metrics.mean_squared_error(y,yhat)\n",
    "    print(f'MSE is {MSE}')\n",
    "    \n",
    "    RMSE = sqrt(sklearn.metrics.mean_squared_error(y,yhat))\n",
    "    print(f'RMSE is {RMSE}')"
   ]
  },
  {
   "cell_type": "code",
   "execution_count": 77,
   "id": "264e4ccb",
   "metadata": {},
   "outputs": [
    {
     "name": "stdout",
     "output_type": "stream",
     "text": [
      " SSE is 252.78874385077597\n",
      "ESS is 212.4237331984042\n",
      "TSS is 465.21247704918017\n",
      "MSE is 1.036019442011377\n",
      "RMSE is 1.0178504025697377\n"
     ]
    }
   ],
   "source": [
    "regression_errors(tips.tip, tips.yhat)"
   ]
  },
  {
   "cell_type": "code",
   "execution_count": 78,
   "id": "b36381cc",
   "metadata": {},
   "outputs": [],
   "source": [
    "def baseline_mean_errors(y):\n",
    "    import sklearn.metrics\n",
    "    import math\n",
    "    baseline = y.mean()\n",
    "    residuals = baseline - y\n",
    "    residuals_squared = sum(residuals**2)\n",
    "    SSE = residuals_squared\n",
    "    print(f'SSE baseline is {SSE}')\n",
    "    \n",
    "    MSE = SSE/len(y)\n",
    "    print(f'MSE baseline is {MSE}')\n",
    "    \n",
    "    RMSE = sqrt(MSE)\n",
    "    print(f'RMSE baseline {RMSE}')"
   ]
  },
  {
   "cell_type": "code",
   "execution_count": 79,
   "id": "f0a3549d",
   "metadata": {},
   "outputs": [
    {
     "name": "stdout",
     "output_type": "stream",
     "text": [
      "SSE baseline is 465.21247704918085\n",
      "MSE baseline is 1.9066085124966428\n",
      "RMSE baseline 1.3807999538298958\n"
     ]
    }
   ],
   "source": [
    "baseline_mean_errors(tips.tip)"
   ]
  },
  {
   "cell_type": "code",
   "execution_count": 80,
   "id": "6a0085f8",
   "metadata": {},
   "outputs": [],
   "source": [
    "import sklearn.metrics\n",
    "import math\n",
    "def better_than_baseline(y,yhat):\n",
    "    baseline = y.mean()\n",
    "    residuals_baseline = baseline - y\n",
    "    residuals_squared_baseline = sum(residuals_baseline**2)\n",
    "    SSE_baseline = residuals_squared_baseline\n",
    "    \n",
    "    MSE_baseline = SSE_baseline/len(y)\n",
    "    \n",
    "    RMSE_baseline = sqrt(MSE_baseline)\n",
    "    \n",
    "    residuals = yhat - y\n",
    "    residuals_squared = sum(residuals**2)\n",
    "    SSE = residuals_squared\n",
    "    \n",
    "    MSE = sklearn.metrics.mean_squared_error(y,yhat)\n",
    "    \n",
    "    RMSE = sqrt(sklearn.metrics.mean_squared_error(y,yhat))\n",
    "    \n",
    "    if RMSE < RMSE_baseline:\n",
    "        return True\n",
    "    else: \n",
    "        return False"
   ]
  },
  {
   "cell_type": "code",
   "execution_count": 81,
   "id": "f8e60353",
   "metadata": {},
   "outputs": [
    {
     "data": {
      "text/plain": [
       "True"
      ]
     },
     "execution_count": 81,
     "metadata": {},
     "output_type": "execute_result"
    }
   ],
   "source": [
    "better_than_baseline(tips.tip,tips.yhat)"
   ]
  },
  {
   "cell_type": "markdown",
   "id": "121ac27c",
   "metadata": {},
   "source": [
    "model_significance(ols_model): that takes the ols model as input and returns the amount of variance explained in your model, and the value telling you whether your model is significantly better than the baseline model (Hint: use the rsquared and f_pvalue properties from the ols model)"
   ]
  },
  {
   "cell_type": "code",
   "execution_count": 84,
   "id": "a4ef0cf5",
   "metadata": {},
   "outputs": [],
   "source": [
    "def model_significance(ols_model):\n",
    "    R2 = ols_model.rsquared\n",
    "    f_pval = ols_model.f_pvalue\n",
    "    print(f'variance explained in our model is {round(R2,2)}')\n",
    "    if f_pval <.05:\n",
    "        return print(f\"our p-value for our model's significance is {f_pval}, so it is significantly better than the baseline\")\n",
    "    else:\n",
    "        return print(f\"our p-value for our model's significance is {f_pval}, so it is NOT significantly better than the baseline\")"
   ]
  },
  {
   "cell_type": "code",
   "execution_count": 85,
   "id": "0c6ea277",
   "metadata": {},
   "outputs": [
    {
     "name": "stdout",
     "output_type": "stream",
     "text": [
      "variance explained in our model is 0.59\n",
      "our p-value for our model's significance is 2.0389744555910457e-46, so it is significantly better than the baseline\n"
     ]
    }
   ],
   "source": [
    "model_significance(model)"
   ]
  },
  {
   "cell_type": "markdown",
   "id": "c3e44f72",
   "metadata": {},
   "source": [
    "10.) Load the mpg dataset and fit a model that predicts highway mileage based on engine displacement. Take a look at all the regression evaluation metrics, and determine whether this model is better than the baseline model. Use the functions from your evaluate.py to help accomplish this."
   ]
  },
  {
   "cell_type": "code",
   "execution_count": 86,
   "id": "e4f3e7eb",
   "metadata": {},
   "outputs": [],
   "source": [
    "mpg_df = data('mpg')"
   ]
  },
  {
   "cell_type": "code",
   "execution_count": 87,
   "id": "d1671747",
   "metadata": {},
   "outputs": [
    {
     "data": {
      "text/html": [
       "<div>\n",
       "<style scoped>\n",
       "    .dataframe tbody tr th:only-of-type {\n",
       "        vertical-align: middle;\n",
       "    }\n",
       "\n",
       "    .dataframe tbody tr th {\n",
       "        vertical-align: top;\n",
       "    }\n",
       "\n",
       "    .dataframe thead th {\n",
       "        text-align: right;\n",
       "    }\n",
       "</style>\n",
       "<table border=\"1\" class=\"dataframe\">\n",
       "  <thead>\n",
       "    <tr style=\"text-align: right;\">\n",
       "      <th></th>\n",
       "      <th>manufacturer</th>\n",
       "      <th>model</th>\n",
       "      <th>displ</th>\n",
       "      <th>year</th>\n",
       "      <th>cyl</th>\n",
       "      <th>trans</th>\n",
       "      <th>drv</th>\n",
       "      <th>cty</th>\n",
       "      <th>hwy</th>\n",
       "      <th>fl</th>\n",
       "      <th>class</th>\n",
       "    </tr>\n",
       "  </thead>\n",
       "  <tbody>\n",
       "    <tr>\n",
       "      <th>1</th>\n",
       "      <td>audi</td>\n",
       "      <td>a4</td>\n",
       "      <td>1.8</td>\n",
       "      <td>1999</td>\n",
       "      <td>4</td>\n",
       "      <td>auto(l5)</td>\n",
       "      <td>f</td>\n",
       "      <td>18</td>\n",
       "      <td>29</td>\n",
       "      <td>p</td>\n",
       "      <td>compact</td>\n",
       "    </tr>\n",
       "    <tr>\n",
       "      <th>2</th>\n",
       "      <td>audi</td>\n",
       "      <td>a4</td>\n",
       "      <td>1.8</td>\n",
       "      <td>1999</td>\n",
       "      <td>4</td>\n",
       "      <td>manual(m5)</td>\n",
       "      <td>f</td>\n",
       "      <td>21</td>\n",
       "      <td>29</td>\n",
       "      <td>p</td>\n",
       "      <td>compact</td>\n",
       "    </tr>\n",
       "    <tr>\n",
       "      <th>3</th>\n",
       "      <td>audi</td>\n",
       "      <td>a4</td>\n",
       "      <td>2.0</td>\n",
       "      <td>2008</td>\n",
       "      <td>4</td>\n",
       "      <td>manual(m6)</td>\n",
       "      <td>f</td>\n",
       "      <td>20</td>\n",
       "      <td>31</td>\n",
       "      <td>p</td>\n",
       "      <td>compact</td>\n",
       "    </tr>\n",
       "    <tr>\n",
       "      <th>4</th>\n",
       "      <td>audi</td>\n",
       "      <td>a4</td>\n",
       "      <td>2.0</td>\n",
       "      <td>2008</td>\n",
       "      <td>4</td>\n",
       "      <td>auto(av)</td>\n",
       "      <td>f</td>\n",
       "      <td>21</td>\n",
       "      <td>30</td>\n",
       "      <td>p</td>\n",
       "      <td>compact</td>\n",
       "    </tr>\n",
       "    <tr>\n",
       "      <th>5</th>\n",
       "      <td>audi</td>\n",
       "      <td>a4</td>\n",
       "      <td>2.8</td>\n",
       "      <td>1999</td>\n",
       "      <td>6</td>\n",
       "      <td>auto(l5)</td>\n",
       "      <td>f</td>\n",
       "      <td>16</td>\n",
       "      <td>26</td>\n",
       "      <td>p</td>\n",
       "      <td>compact</td>\n",
       "    </tr>\n",
       "  </tbody>\n",
       "</table>\n",
       "</div>"
      ],
      "text/plain": [
       "  manufacturer model  displ  year  cyl       trans drv  cty  hwy fl    class\n",
       "1         audi    a4    1.8  1999    4    auto(l5)   f   18   29  p  compact\n",
       "2         audi    a4    1.8  1999    4  manual(m5)   f   21   29  p  compact\n",
       "3         audi    a4    2.0  2008    4  manual(m6)   f   20   31  p  compact\n",
       "4         audi    a4    2.0  2008    4    auto(av)   f   21   30  p  compact\n",
       "5         audi    a4    2.8  1999    6    auto(l5)   f   16   26  p  compact"
      ]
     },
     "execution_count": 87,
     "metadata": {},
     "output_type": "execute_result"
    }
   ],
   "source": [
    "mpg_df.head()"
   ]
  },
  {
   "cell_type": "code",
   "execution_count": 88,
   "id": "81a09231",
   "metadata": {},
   "outputs": [],
   "source": [
    "x = mpg_df['displ']\n",
    "y = mpg_df['hwy']"
   ]
  },
  {
   "cell_type": "code",
   "execution_count": 89,
   "id": "c4660467",
   "metadata": {},
   "outputs": [],
   "source": [
    "model = ols('hwy ~ displ', data=mpg_df).fit()\n",
    "mpg_df['yhat'] = model.predict(x)"
   ]
  },
  {
   "cell_type": "code",
   "execution_count": 90,
   "id": "c305da83",
   "metadata": {},
   "outputs": [
    {
     "data": {
      "image/png": "[encoded data removed]",
      "text/plain": [
       "<Figure size 432x288 with 1 Axes>"
      ]
     },
     "metadata": {
      "needs_background": "light"
     },
     "output_type": "display_data"
    }
   ],
   "source": [
    "plot_residuals(y,mpg_df.yhat)"
   ]
  },
  {
   "cell_type": "code",
   "execution_count": 91,
   "id": "29b042ce",
   "metadata": {},
   "outputs": [
    {
     "name": "stdout",
     "output_type": "stream",
     "text": [
      " SSE is 3413.8290089954626\n",
      "ESS is 4847.833384166935\n",
      "TSS is 8261.662393162398\n",
      "MSE is 14.589012858954987\n",
      "RMSE is 3.8195566312014524\n"
     ]
    }
   ],
   "source": [
    "regression_errors(y,mpg_df.yhat)"
   ]
  },
  {
   "cell_type": "code",
   "execution_count": 92,
   "id": "04e088c4",
   "metadata": {},
   "outputs": [
    {
     "name": "stdout",
     "output_type": "stream",
     "text": [
      "SSE baseline is 8261.662393162384\n",
      "MSE baseline is 35.30624954342899\n",
      "RMSE baseline 5.941906221359353\n"
     ]
    }
   ],
   "source": [
    "baseline_mean_errors(y)"
   ]
  },
  {
   "cell_type": "code",
   "execution_count": 93,
   "id": "c4079d3f",
   "metadata": {},
   "outputs": [
    {
     "data": {
      "text/plain": [
       "True"
      ]
     },
     "execution_count": 93,
     "metadata": {},
     "output_type": "execute_result"
    }
   ],
   "source": [
    "better_than_baseline(y,mpg_df.yhat)"
   ]
  },
  {
   "cell_type": "code",
   "execution_count": 94,
   "id": "14b77c00",
   "metadata": {},
   "outputs": [
    {
     "name": "stdout",
     "output_type": "stream",
     "text": [
      "variance explained in our model is 0.59\n",
      "our p-value for our model's significance is 2.0389744555910457e-46, so it is significantly better than the baseline\n"
     ]
    }
   ],
   "source": [
    "model_significance(model)"
   ]
  },
  {
   "cell_type": "code",
   "execution_count": 95,
   "id": "9accb19f",
   "metadata": {},
   "outputs": [
    {
     "data": {
      "text/html": [
       "<div>\n",
       "<style scoped>\n",
       "    .dataframe tbody tr th:only-of-type {\n",
       "        vertical-align: middle;\n",
       "    }\n",
       "\n",
       "    .dataframe tbody tr th {\n",
       "        vertical-align: top;\n",
       "    }\n",
       "\n",
       "    .dataframe thead th {\n",
       "        text-align: right;\n",
       "    }\n",
       "</style>\n",
       "<table border=\"1\" class=\"dataframe\">\n",
       "  <thead>\n",
       "    <tr style=\"text-align: right;\">\n",
       "      <th></th>\n",
       "      <th>manufacturer</th>\n",
       "      <th>model</th>\n",
       "      <th>displ</th>\n",
       "      <th>year</th>\n",
       "      <th>cyl</th>\n",
       "      <th>trans</th>\n",
       "      <th>drv</th>\n",
       "      <th>cty</th>\n",
       "      <th>hwy</th>\n",
       "      <th>fl</th>\n",
       "      <th>class</th>\n",
       "      <th>yhat</th>\n",
       "    </tr>\n",
       "  </thead>\n",
       "  <tbody>\n",
       "    <tr>\n",
       "      <th>1</th>\n",
       "      <td>audi</td>\n",
       "      <td>a4</td>\n",
       "      <td>1.8</td>\n",
       "      <td>1999</td>\n",
       "      <td>4</td>\n",
       "      <td>auto(l5)</td>\n",
       "      <td>f</td>\n",
       "      <td>18</td>\n",
       "      <td>29</td>\n",
       "      <td>p</td>\n",
       "      <td>compact</td>\n",
       "      <td>29.342591</td>\n",
       "    </tr>\n",
       "    <tr>\n",
       "      <th>2</th>\n",
       "      <td>audi</td>\n",
       "      <td>a4</td>\n",
       "      <td>1.8</td>\n",
       "      <td>1999</td>\n",
       "      <td>4</td>\n",
       "      <td>manual(m5)</td>\n",
       "      <td>f</td>\n",
       "      <td>21</td>\n",
       "      <td>29</td>\n",
       "      <td>p</td>\n",
       "      <td>compact</td>\n",
       "      <td>29.342591</td>\n",
       "    </tr>\n",
       "    <tr>\n",
       "      <th>3</th>\n",
       "      <td>audi</td>\n",
       "      <td>a4</td>\n",
       "      <td>2.0</td>\n",
       "      <td>2008</td>\n",
       "      <td>4</td>\n",
       "      <td>manual(m6)</td>\n",
       "      <td>f</td>\n",
       "      <td>20</td>\n",
       "      <td>31</td>\n",
       "      <td>p</td>\n",
       "      <td>compact</td>\n",
       "      <td>28.636473</td>\n",
       "    </tr>\n",
       "    <tr>\n",
       "      <th>4</th>\n",
       "      <td>audi</td>\n",
       "      <td>a4</td>\n",
       "      <td>2.0</td>\n",
       "      <td>2008</td>\n",
       "      <td>4</td>\n",
       "      <td>auto(av)</td>\n",
       "      <td>f</td>\n",
       "      <td>21</td>\n",
       "      <td>30</td>\n",
       "      <td>p</td>\n",
       "      <td>compact</td>\n",
       "      <td>28.636473</td>\n",
       "    </tr>\n",
       "    <tr>\n",
       "      <th>5</th>\n",
       "      <td>audi</td>\n",
       "      <td>a4</td>\n",
       "      <td>2.8</td>\n",
       "      <td>1999</td>\n",
       "      <td>6</td>\n",
       "      <td>auto(l5)</td>\n",
       "      <td>f</td>\n",
       "      <td>16</td>\n",
       "      <td>26</td>\n",
       "      <td>p</td>\n",
       "      <td>compact</td>\n",
       "      <td>25.812002</td>\n",
       "    </tr>\n",
       "    <tr>\n",
       "      <th>...</th>\n",
       "      <td>...</td>\n",
       "      <td>...</td>\n",
       "      <td>...</td>\n",
       "      <td>...</td>\n",
       "      <td>...</td>\n",
       "      <td>...</td>\n",
       "      <td>...</td>\n",
       "      <td>...</td>\n",
       "      <td>...</td>\n",
       "      <td>...</td>\n",
       "      <td>...</td>\n",
       "      <td>...</td>\n",
       "    </tr>\n",
       "    <tr>\n",
       "      <th>230</th>\n",
       "      <td>volkswagen</td>\n",
       "      <td>passat</td>\n",
       "      <td>2.0</td>\n",
       "      <td>2008</td>\n",
       "      <td>4</td>\n",
       "      <td>auto(s6)</td>\n",
       "      <td>f</td>\n",
       "      <td>19</td>\n",
       "      <td>28</td>\n",
       "      <td>p</td>\n",
       "      <td>midsize</td>\n",
       "      <td>28.636473</td>\n",
       "    </tr>\n",
       "    <tr>\n",
       "      <th>231</th>\n",
       "      <td>volkswagen</td>\n",
       "      <td>passat</td>\n",
       "      <td>2.0</td>\n",
       "      <td>2008</td>\n",
       "      <td>4</td>\n",
       "      <td>manual(m6)</td>\n",
       "      <td>f</td>\n",
       "      <td>21</td>\n",
       "      <td>29</td>\n",
       "      <td>p</td>\n",
       "      <td>midsize</td>\n",
       "      <td>28.636473</td>\n",
       "    </tr>\n",
       "    <tr>\n",
       "      <th>232</th>\n",
       "      <td>volkswagen</td>\n",
       "      <td>passat</td>\n",
       "      <td>2.8</td>\n",
       "      <td>1999</td>\n",
       "      <td>6</td>\n",
       "      <td>auto(l5)</td>\n",
       "      <td>f</td>\n",
       "      <td>16</td>\n",
       "      <td>26</td>\n",
       "      <td>p</td>\n",
       "      <td>midsize</td>\n",
       "      <td>25.812002</td>\n",
       "    </tr>\n",
       "    <tr>\n",
       "      <th>233</th>\n",
       "      <td>volkswagen</td>\n",
       "      <td>passat</td>\n",
       "      <td>2.8</td>\n",
       "      <td>1999</td>\n",
       "      <td>6</td>\n",
       "      <td>manual(m5)</td>\n",
       "      <td>f</td>\n",
       "      <td>18</td>\n",
       "      <td>26</td>\n",
       "      <td>p</td>\n",
       "      <td>midsize</td>\n",
       "      <td>25.812002</td>\n",
       "    </tr>\n",
       "    <tr>\n",
       "      <th>234</th>\n",
       "      <td>volkswagen</td>\n",
       "      <td>passat</td>\n",
       "      <td>3.6</td>\n",
       "      <td>2008</td>\n",
       "      <td>6</td>\n",
       "      <td>auto(s6)</td>\n",
       "      <td>f</td>\n",
       "      <td>17</td>\n",
       "      <td>26</td>\n",
       "      <td>p</td>\n",
       "      <td>midsize</td>\n",
       "      <td>22.987531</td>\n",
       "    </tr>\n",
       "  </tbody>\n",
       "</table>\n",
       "<p>234 rows × 12 columns</p>\n",
       "</div>"
      ],
      "text/plain": [
       "    manufacturer   model  displ  year  cyl       trans drv  cty  hwy fl  \\\n",
       "1           audi      a4    1.8  1999    4    auto(l5)   f   18   29  p   \n",
       "2           audi      a4    1.8  1999    4  manual(m5)   f   21   29  p   \n",
       "3           audi      a4    2.0  2008    4  manual(m6)   f   20   31  p   \n",
       "4           audi      a4    2.0  2008    4    auto(av)   f   21   30  p   \n",
       "5           audi      a4    2.8  1999    6    auto(l5)   f   16   26  p   \n",
       "..           ...     ...    ...   ...  ...         ...  ..  ...  ... ..   \n",
       "230   volkswagen  passat    2.0  2008    4    auto(s6)   f   19   28  p   \n",
       "231   volkswagen  passat    2.0  2008    4  manual(m6)   f   21   29  p   \n",
       "232   volkswagen  passat    2.8  1999    6    auto(l5)   f   16   26  p   \n",
       "233   volkswagen  passat    2.8  1999    6  manual(m5)   f   18   26  p   \n",
       "234   volkswagen  passat    3.6  2008    6    auto(s6)   f   17   26  p   \n",
       "\n",
       "       class       yhat  \n",
       "1    compact  29.342591  \n",
       "2    compact  29.342591  \n",
       "3    compact  28.636473  \n",
       "4    compact  28.636473  \n",
       "5    compact  25.812002  \n",
       "..       ...        ...  \n",
       "230  midsize  28.636473  \n",
       "231  midsize  28.636473  \n",
       "232  midsize  25.812002  \n",
       "233  midsize  25.812002  \n",
       "234  midsize  22.987531  \n",
       "\n",
       "[234 rows x 12 columns]"
      ]
     },
     "execution_count": 95,
     "metadata": {},
     "output_type": "execute_result"
    }
   ],
   "source": [
    "mpg_df"
   ]
  },
  {
   "cell_type": "code",
   "execution_count": null,
   "id": "a495c109",
   "metadata": {},
   "outputs": [],
   "source": []
  },
  {
   "cell_type": "code",
   "execution_count": null,
   "id": "a5633608",
   "metadata": {},
   "outputs": [],
   "source": []
  }
 ],
 "metadata": {
  "kernelspec": {
   "display_name": "Python 3",
   "language": "python",
   "name": "python3"
  },
  "language_info": {
   "codemirror_mode": {
    "name": "ipython",
    "version": 3
   },
   "file_extension": ".py",
   "mimetype": "text/x-python",
   "name": "python",
   "nbconvert_exporter": "python",
   "pygments_lexer": "ipython3",
   "version": "3.8.8"
  }
 },
 "nbformat": 4,
 "nbformat_minor": 5
}
