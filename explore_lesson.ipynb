{
 "cells": [
  {
   "cell_type": "markdown",
   "id": "ebcc161e-8076-4903-854d-6348716a0a46",
   "metadata": {},
   "source": [
    "# Exploration"
   ]
  },
  {
   "cell_type": "code",
   "execution_count": 3,
   "id": "d1eb380f-69e1-4d71-a690-0f6ff9b9c08f",
   "metadata": {},
   "outputs": [],
   "source": [
    "import pandas as pd\n",
    "import numpy as np\n",
    "import matplotlib.pyplot as plt\n",
    "import seaborn as sns\n",
    "from scipy import stats\n",
    "\n",
    "from sklearn.model_selection import train_test_split"
   ]
  },
  {
   "cell_type": "code",
   "execution_count": 1,
   "id": "8e036da4-bbf6-4665-bd7c-c665d55a43a9",
   "metadata": {},
   "outputs": [],
   "source": [
    "def wrangle_grades():\n",
    "    df = pd.read_csv('./student_grades.csv')\n",
    "    df = df.replace(r'^\\s*$', np.nan, regex=True)\n",
    "    df = df.dropna()\n",
    "    df = df.astype('int')\n",
    "    return df"
   ]
  },
  {
   "cell_type": "code",
   "execution_count": 4,
   "id": "d1322d95-6370-4128-9bfe-67a109e1eb91",
   "metadata": {},
   "outputs": [],
   "source": [
    "df = wrangle_grades()"
   ]
  },
  {
   "cell_type": "code",
   "execution_count": 5,
   "id": "f3fd46c5-2e46-4a5a-8ab9-4cfa533012a6",
   "metadata": {},
   "outputs": [],
   "source": [
    "train, test = train_test_split(df, random_state=123, train_size=.8)"
   ]
  },
  {
   "cell_type": "markdown",
   "id": "90a93c9e-f1eb-46ab-9806-e03ae0788d86",
   "metadata": {},
   "source": [
    "## Why Explore?\n",
    "\n",
    "- What is the purpose of this pipeline stage?\n",
    "- Why do we call it out explicitly?\n",
    "- DIKW\n",
    "- DIKIA (https://ds.codeup.com/fundamentals/DataToAction_v2.jpg)"
   ]
  },
  {
   "cell_type": "code",
   "execution_count": 6,
   "id": "7befb441-e5c7-4c43-bec4-78b39eea458f",
   "metadata": {},
   "outputs": [
    {
     "data": {
      "text/html": [
       "<div>\n",
       "<style scoped>\n",
       "    .dataframe tbody tr th:only-of-type {\n",
       "        vertical-align: middle;\n",
       "    }\n",
       "\n",
       "    .dataframe tbody tr th {\n",
       "        vertical-align: top;\n",
       "    }\n",
       "\n",
       "    .dataframe thead th {\n",
       "        text-align: right;\n",
       "    }\n",
       "</style>\n",
       "<table border=\"1\" class=\"dataframe\">\n",
       "  <thead>\n",
       "    <tr style=\"text-align: right;\">\n",
       "      <th></th>\n",
       "      <th>student_id</th>\n",
       "      <th>exam1</th>\n",
       "      <th>exam2</th>\n",
       "      <th>exam3</th>\n",
       "      <th>final_grade</th>\n",
       "    </tr>\n",
       "  </thead>\n",
       "  <tbody>\n",
       "    <tr>\n",
       "      <th>0</th>\n",
       "      <td>1</td>\n",
       "      <td>100</td>\n",
       "      <td>90</td>\n",
       "      <td>95</td>\n",
       "      <td>96</td>\n",
       "    </tr>\n",
       "    <tr>\n",
       "      <th>1</th>\n",
       "      <td>2</td>\n",
       "      <td>98</td>\n",
       "      <td>93</td>\n",
       "      <td>96</td>\n",
       "      <td>95</td>\n",
       "    </tr>\n",
       "    <tr>\n",
       "      <th>2</th>\n",
       "      <td>3</td>\n",
       "      <td>85</td>\n",
       "      <td>83</td>\n",
       "      <td>87</td>\n",
       "      <td>87</td>\n",
       "    </tr>\n",
       "    <tr>\n",
       "      <th>3</th>\n",
       "      <td>4</td>\n",
       "      <td>83</td>\n",
       "      <td>80</td>\n",
       "      <td>86</td>\n",
       "      <td>85</td>\n",
       "    </tr>\n",
       "    <tr>\n",
       "      <th>4</th>\n",
       "      <td>5</td>\n",
       "      <td>93</td>\n",
       "      <td>90</td>\n",
       "      <td>96</td>\n",
       "      <td>97</td>\n",
       "    </tr>\n",
       "  </tbody>\n",
       "</table>\n",
       "</div>"
      ],
      "text/plain": [
       "   student_id  exam1  exam2  exam3  final_grade\n",
       "0           1    100     90     95           96\n",
       "1           2     98     93     96           95\n",
       "2           3     85     83     87           87\n",
       "3           4     83     80     86           85\n",
       "4           5     93     90     96           97"
      ]
     },
     "execution_count": 6,
     "metadata": {},
     "output_type": "execute_result"
    }
   ],
   "source": [
    "df.head()"
   ]
  },
  {
   "cell_type": "markdown",
   "id": "602e6a53-a531-4d5c-9f57-1ffe8d0f8065",
   "metadata": {},
   "source": [
    "## Questions\n",
    "\n",
    "- Is student_id unique?\n",
    "- What's the relationship between individual exam scores and final grade? Probably fairly predictive\n",
    "- Is there a cutoff in grade that makes sense to investigate? Passing/failing, letter grades?"
   ]
  },
  {
   "cell_type": "code",
   "execution_count": 11,
   "id": "7120a558-d3d9-4908-896e-e74f74e27bac",
   "metadata": {},
   "outputs": [
    {
     "data": {
      "text/plain": [
       "1    102\n",
       "Name: student_id, dtype: int64"
      ]
     },
     "execution_count": 11,
     "metadata": {},
     "output_type": "execute_result"
    }
   ],
   "source": [
    "df.student_id.value_counts().value_counts()"
   ]
  },
  {
   "cell_type": "code",
   "execution_count": 13,
   "id": "5e7cc7d8-fa4a-4993-a259-bad607fe2c50",
   "metadata": {},
   "outputs": [
    {
     "data": {
      "text/plain": [
       "True"
      ]
     },
     "execution_count": 13,
     "metadata": {},
     "output_type": "execute_result"
    }
   ],
   "source": [
    "# Does each value uniquely identify a row?\n",
    "df.student_id.nunique() == df.shape[0]"
   ]
  },
  {
   "cell_type": "code",
   "execution_count": 16,
   "id": "9db3bcae-5bf4-4b45-ac54-070db8d0b750",
   "metadata": {},
   "outputs": [],
   "source": [
    "df = df.drop(columns='student_id')"
   ]
  },
  {
   "cell_type": "code",
   "execution_count": 24,
   "id": "3fa1c074-f1e8-4b36-b013-d934b05bc73b",
   "metadata": {},
   "outputs": [
    {
     "data": {
      "text/plain": [
       "<AxesSubplot:>"
      ]
     },
     "execution_count": 24,
     "metadata": {},
     "output_type": "execute_result"
    },
    {
     "data": {
      "image/png": "[encoded data removed]",
      "text/plain": [
       "<Figure size 432x288 with 2 Axes>"
      ]
     },
     "metadata": {
      "needs_background": "light"
     },
     "output_type": "display_data"
    }
   ],
   "source": [
    "correlation_table = df.corr()\n",
    "# sns.heatmap(correlation_table, cmap='Blues', annot=True, vmin=0, vmax=1)\n",
    "sns.heatmap(correlation_table, cmap='Blues', annot=True)"
   ]
  },
  {
   "cell_type": "markdown",
   "id": "d72f2159-76c0-438c-810c-8b272aa9bb05",
   "metadata": {},
   "source": [
    "* Exam 1 seems to be the most predictive of final grade\n",
    "* Everything seems to correlate with everything (Multicolinearity)"
   ]
  },
  {
   "cell_type": "code",
   "execution_count": 26,
   "id": "99eab5af-2704-4fe1-aca8-e3daa28cc37e",
   "metadata": {},
   "outputs": [
    {
     "data": {
      "text/plain": [
       "<seaborn.axisgrid.PairGrid at 0x7f80d0795610>"
      ]
     },
     "execution_count": 26,
     "metadata": {},
     "output_type": "execute_result"
    },
    {
     "data": {
      "image/png": "[encoded data removed]",
      "text/plain": [
       "<Figure size 720x720 with 20 Axes>"
      ]
     },
     "metadata": {
      "needs_background": "light"
     },
     "output_type": "display_data"
    }
   ],
   "source": [
    "sns.pairplot(train.drop(columns='student_id'))"
   ]
  },
  {
   "cell_type": "markdown",
   "id": "729411f1-4a36-401e-8b7a-933fc13fa2a2",
   "metadata": {},
   "source": [
    "* Lots of linear relationships between exams\n",
    "* Exam scores aren't all normally distributed\n",
    "* It looks like the distribution of exam 2 scores is bimodal -- there's two peaks in the distribution"
   ]
  },
  {
   "cell_type": "code",
   "execution_count": 28,
   "id": "c0e459f7-2707-4520-bba0-dec674c9ef6d",
   "metadata": {},
   "outputs": [
    {
     "data": {
      "text/plain": [
       "<AxesSubplot:ylabel='Frequency'>"
      ]
     },
     "execution_count": 28,
     "metadata": {},
     "output_type": "execute_result"
    },
    {
     "data": {
      "image/png": "[encoded data removed]",
      "text/plain": [
       "<Figure size 432x288 with 1 Axes>"
      ]
     },
     "metadata": {
      "needs_background": "light"
     },
     "output_type": "display_data"
    }
   ],
   "source": [
    "train.exam2.plot.hist()"
   ]
  },
  {
   "cell_type": "code",
   "execution_count": 29,
   "id": "282a9e3b-ce3f-4b4f-ac9a-67bf691cfa54",
   "metadata": {},
   "outputs": [
    {
     "data": {
      "text/plain": [
       "(-0.001, 75.0]    46\n",
       "(75.0, 100.0]     35\n",
       "Name: exam2, dtype: int64"
      ]
     },
     "execution_count": 29,
     "metadata": {},
     "output_type": "execute_result"
    }
   ],
   "source": [
    "train.exam2.value_counts(bins=[0, 75, 100])"
   ]
  },
  {
   "cell_type": "code",
   "execution_count": 30,
   "id": "f423b710-2187-4e52-b9b6-314c4d92a3c9",
   "metadata": {},
   "outputs": [
    {
     "name": "stderr",
     "output_type": "stream",
     "text": [
      "<ipython-input-30-5a08ea837af0>:1: SettingWithCopyWarning: \n",
      "A value is trying to be set on a copy of a slice from a DataFrame.\n",
      "Try using .loc[row_indexer,col_indexer] = value instead\n",
      "\n",
      "See the caveats in the documentation: https://pandas.pydata.org/pandas-docs/stable/user_guide/indexing.html#returning-a-view-versus-a-copy\n",
      "  train['exam2_desc'] = np.where(train.exam2 > 75, 'good grade', 'bad grade')\n"
     ]
    }
   ],
   "source": [
    "train['exam2_desc'] = np.where(train.exam2 > 75, 'good grade', 'bad grade')"
   ]
  },
  {
   "cell_type": "code",
   "execution_count": 32,
   "id": "c531e389-6d11-459e-b008-8e1ba972495a",
   "metadata": {},
   "outputs": [
    {
     "data": {
      "text/plain": [
       "<AxesSubplot:xlabel='final_grade', ylabel='Count'>"
      ]
     },
     "execution_count": 32,
     "metadata": {},
     "output_type": "execute_result"
    },
    {
     "data": {
      "image/png": "[encoded data removed]",
      "text/plain": [
       "<Figure size 432x288 with 1 Axes>"
      ]
     },
     "metadata": {
      "needs_background": "light"
     },
     "output_type": "display_data"
    }
   ],
   "source": [
    "sns.histplot(data=train, x='final_grade', hue='exam2_desc')"
   ]
  },
  {
   "cell_type": "code",
   "execution_count": 33,
   "id": "e63164df-a9aa-4f2d-b0f9-114f6f652c7d",
   "metadata": {},
   "outputs": [
    {
     "data": {
      "text/html": [
       "<div>\n",
       "<style scoped>\n",
       "    .dataframe tbody tr th:only-of-type {\n",
       "        vertical-align: middle;\n",
       "    }\n",
       "\n",
       "    .dataframe tbody tr th {\n",
       "        vertical-align: top;\n",
       "    }\n",
       "\n",
       "    .dataframe thead th {\n",
       "        text-align: right;\n",
       "    }\n",
       "</style>\n",
       "<table border=\"1\" class=\"dataframe\">\n",
       "  <thead>\n",
       "    <tr style=\"text-align: right;\">\n",
       "      <th></th>\n",
       "      <th>student_id</th>\n",
       "      <th>exam1</th>\n",
       "      <th>exam2</th>\n",
       "      <th>exam3</th>\n",
       "      <th>final_grade</th>\n",
       "      <th>exam2_desc</th>\n",
       "    </tr>\n",
       "  </thead>\n",
       "  <tbody>\n",
       "    <tr>\n",
       "      <th>86</th>\n",
       "      <td>87</td>\n",
       "      <td>70</td>\n",
       "      <td>65</td>\n",
       "      <td>78</td>\n",
       "      <td>77</td>\n",
       "      <td>bad grade</td>\n",
       "    </tr>\n",
       "    <tr>\n",
       "      <th>21</th>\n",
       "      <td>22</td>\n",
       "      <td>70</td>\n",
       "      <td>65</td>\n",
       "      <td>78</td>\n",
       "      <td>77</td>\n",
       "      <td>bad grade</td>\n",
       "    </tr>\n",
       "    <tr>\n",
       "      <th>31</th>\n",
       "      <td>32</td>\n",
       "      <td>79</td>\n",
       "      <td>70</td>\n",
       "      <td>85</td>\n",
       "      <td>81</td>\n",
       "      <td>bad grade</td>\n",
       "    </tr>\n",
       "    <tr>\n",
       "      <th>33</th>\n",
       "      <td>34</td>\n",
       "      <td>73</td>\n",
       "      <td>70</td>\n",
       "      <td>75</td>\n",
       "      <td>76</td>\n",
       "      <td>bad grade</td>\n",
       "    </tr>\n",
       "    <tr>\n",
       "      <th>102</th>\n",
       "      <td>103</td>\n",
       "      <td>57</td>\n",
       "      <td>65</td>\n",
       "      <td>75</td>\n",
       "      <td>65</td>\n",
       "      <td>bad grade</td>\n",
       "    </tr>\n",
       "    <tr>\n",
       "      <th>...</th>\n",
       "      <td>...</td>\n",
       "      <td>...</td>\n",
       "      <td>...</td>\n",
       "      <td>...</td>\n",
       "      <td>...</td>\n",
       "      <td>...</td>\n",
       "    </tr>\n",
       "    <tr>\n",
       "      <th>85</th>\n",
       "      <td>86</td>\n",
       "      <td>73</td>\n",
       "      <td>70</td>\n",
       "      <td>75</td>\n",
       "      <td>76</td>\n",
       "      <td>bad grade</td>\n",
       "    </tr>\n",
       "    <tr>\n",
       "      <th>19</th>\n",
       "      <td>20</td>\n",
       "      <td>92</td>\n",
       "      <td>89</td>\n",
       "      <td>94</td>\n",
       "      <td>93</td>\n",
       "      <td>good grade</td>\n",
       "    </tr>\n",
       "    <tr>\n",
       "      <th>100</th>\n",
       "      <td>101</td>\n",
       "      <td>62</td>\n",
       "      <td>70</td>\n",
       "      <td>79</td>\n",
       "      <td>70</td>\n",
       "      <td>bad grade</td>\n",
       "    </tr>\n",
       "    <tr>\n",
       "      <th>94</th>\n",
       "      <td>95</td>\n",
       "      <td>83</td>\n",
       "      <td>80</td>\n",
       "      <td>86</td>\n",
       "      <td>85</td>\n",
       "      <td>good grade</td>\n",
       "    </tr>\n",
       "    <tr>\n",
       "      <th>68</th>\n",
       "      <td>69</td>\n",
       "      <td>83</td>\n",
       "      <td>80</td>\n",
       "      <td>86</td>\n",
       "      <td>85</td>\n",
       "      <td>good grade</td>\n",
       "    </tr>\n",
       "  </tbody>\n",
       "</table>\n",
       "<p>81 rows × 6 columns</p>\n",
       "</div>"
      ],
      "text/plain": [
       "     student_id  exam1  exam2  exam3  final_grade  exam2_desc\n",
       "86           87     70     65     78           77   bad grade\n",
       "21           22     70     65     78           77   bad grade\n",
       "31           32     79     70     85           81   bad grade\n",
       "33           34     73     70     75           76   bad grade\n",
       "102         103     57     65     75           65   bad grade\n",
       "..          ...    ...    ...    ...          ...         ...\n",
       "85           86     73     70     75           76   bad grade\n",
       "19           20     92     89     94           93  good grade\n",
       "100         101     62     70     79           70   bad grade\n",
       "94           95     83     80     86           85  good grade\n",
       "68           69     83     80     86           85  good grade\n",
       "\n",
       "[81 rows x 6 columns]"
      ]
     },
     "execution_count": 33,
     "metadata": {},
     "output_type": "execute_result"
    }
   ],
   "source": [
    "train"
   ]
  },
  {
   "cell_type": "code",
   "execution_count": 34,
   "id": "b10fc946-c966-4cdb-9813-6bb2282d6408",
   "metadata": {},
   "outputs": [
    {
     "data": {
      "text/plain": [
       "<seaborn.axisgrid.PairGrid at 0x7f80d0e10af0>"
      ]
     },
     "execution_count": 34,
     "metadata": {},
     "output_type": "execute_result"
    },
    {
     "data": {
      "image/png": "[encoded data removed]",
      "text/plain": [
       "<Figure size 633x540 with 12 Axes>"
      ]
     },
     "metadata": {
      "needs_background": "light"
     },
     "output_type": "display_data"
    }
   ],
   "source": [
    "sns.pairplot(train.drop(columns=['student_id', 'exam2']), hue='exam2_desc')"
   ]
  },
  {
   "cell_type": "code",
   "execution_count": 36,
   "id": "7f11aaac-669d-46b8-8c7c-4245197ead5d",
   "metadata": {},
   "outputs": [
    {
     "data": {
      "text/plain": [
       "<AxesSubplot:ylabel='Frequency'>"
      ]
     },
     "execution_count": 36,
     "metadata": {},
     "output_type": "execute_result"
    },
    {
     "data": {
      "image/png": "[encoded data removed]",
      "text/plain": [
       "<Figure size 432x288 with 1 Axes>"
      ]
     },
     "metadata": {
      "needs_background": "light"
     },
     "output_type": "display_data"
    }
   ],
   "source": [
    "train.exam1.plot.hist()"
   ]
  },
  {
   "cell_type": "code",
   "execution_count": 38,
   "id": "13ba37d8-44f0-43ee-b3dd-23a7f0453fc1",
   "metadata": {},
   "outputs": [
    {
     "data": {
      "text/plain": [
       "(75.0, 100.0]     41\n",
       "(-0.001, 75.0]    40\n",
       "Name: exam1, dtype: int64"
      ]
     },
     "execution_count": 38,
     "metadata": {},
     "output_type": "execute_result"
    }
   ],
   "source": [
    "train.exam1.value_counts(bins=[0, 75, 100])"
   ]
  },
  {
   "cell_type": "code",
   "execution_count": 41,
   "id": "311769e3-2391-4b2f-b641-c6fa9b6fe9a5",
   "metadata": {},
   "outputs": [
    {
     "name": "stderr",
     "output_type": "stream",
     "text": [
      "<ipython-input-41-28d5ee1caa3e>:1: SettingWithCopyWarning: \n",
      "A value is trying to be set on a copy of a slice from a DataFrame.\n",
      "Try using .loc[row_indexer,col_indexer] = value instead\n",
      "\n",
      "See the caveats in the documentation: https://pandas.pydata.org/pandas-docs/stable/user_guide/indexing.html#returning-a-view-versus-a-copy\n",
      "  train['exam1_desc'] = np.where(train.exam1 > 75, 'good grade', 'bad grade')\n"
     ]
    }
   ],
   "source": [
    "train['exam1_desc'] = np.where(train.exam1 > 75, 'good grade', 'bad grade')"
   ]
  },
  {
   "cell_type": "code",
   "execution_count": 43,
   "id": "760b77c9-2c01-4b80-98d7-60324373dfae",
   "metadata": {},
   "outputs": [
    {
     "data": {
      "text/plain": [
       "exam1_desc\n",
       "bad grade     71.450000\n",
       "good grade    89.682927\n",
       "Name: final_grade, dtype: float64"
      ]
     },
     "execution_count": 43,
     "metadata": {},
     "output_type": "execute_result"
    }
   ],
   "source": [
    "train.groupby('exam1_desc').final_grade.mean()"
   ]
  },
  {
   "cell_type": "markdown",
   "id": "d7189bf2-04b7-4e45-8af0-3635eac43db8",
   "metadata": {},
   "source": [
    "Takeaways:\n",
    "\n",
    "* Students that perform well on exam 1 (> a 75) go on to have a average of 90 for their final grade\n",
    "* Students that perform poorly on exam 1 (<= a 75) go on to, on average, just barely pass the class"
   ]
  },
  {
   "cell_type": "code",
   "execution_count": 47,
   "id": "037ea87a-8442-41e9-ad35-891daacc89d9",
   "metadata": {},
   "outputs": [
    {
     "data": {
      "text/plain": [
       "0.16049382716049382"
      ]
     },
     "execution_count": 47,
     "metadata": {},
     "output_type": "execute_result"
    }
   ],
   "source": [
    "# How many people fail?\n",
    "(train.final_grade < 70).mean()"
   ]
  },
  {
   "cell_type": "code",
   "execution_count": 48,
   "id": "2507f863-6083-470d-bf55-2ddb25811b73",
   "metadata": {},
   "outputs": [
    {
     "name": "stderr",
     "output_type": "stream",
     "text": [
      "<ipython-input-48-aeced2f0d9c1>:1: SettingWithCopyWarning: \n",
      "A value is trying to be set on a copy of a slice from a DataFrame.\n",
      "Try using .loc[row_indexer,col_indexer] = value instead\n",
      "\n",
      "See the caveats in the documentation: https://pandas.pydata.org/pandas-docs/stable/user_guide/indexing.html#returning-a-view-versus-a-copy\n",
      "  train['fails_class'] = train.final_grade < 70\n"
     ]
    }
   ],
   "source": [
    "train['fails_class'] = train.final_grade < 70"
   ]
  },
  {
   "cell_type": "code",
   "execution_count": 49,
   "id": "b1ede4ca-8685-4597-ae6b-5b4e2145c547",
   "metadata": {},
   "outputs": [
    {
     "data": {
      "text/html": [
       "<div>\n",
       "<style scoped>\n",
       "    .dataframe tbody tr th:only-of-type {\n",
       "        vertical-align: middle;\n",
       "    }\n",
       "\n",
       "    .dataframe tbody tr th {\n",
       "        vertical-align: top;\n",
       "    }\n",
       "\n",
       "    .dataframe thead th {\n",
       "        text-align: right;\n",
       "    }\n",
       "</style>\n",
       "<table border=\"1\" class=\"dataframe\">\n",
       "  <thead>\n",
       "    <tr style=\"text-align: right;\">\n",
       "      <th>fails_class</th>\n",
       "      <th>False</th>\n",
       "      <th>True</th>\n",
       "    </tr>\n",
       "    <tr>\n",
       "      <th>exam1_desc</th>\n",
       "      <th></th>\n",
       "      <th></th>\n",
       "    </tr>\n",
       "  </thead>\n",
       "  <tbody>\n",
       "    <tr>\n",
       "      <th>bad grade</th>\n",
       "      <td>27</td>\n",
       "      <td>13</td>\n",
       "    </tr>\n",
       "    <tr>\n",
       "      <th>good grade</th>\n",
       "      <td>41</td>\n",
       "      <td>0</td>\n",
       "    </tr>\n",
       "  </tbody>\n",
       "</table>\n",
       "</div>"
      ],
      "text/plain": [
       "fails_class  False  True \n",
       "exam1_desc               \n",
       "bad grade       27     13\n",
       "good grade      41      0"
      ]
     },
     "execution_count": 49,
     "metadata": {},
     "output_type": "execute_result"
    }
   ],
   "source": [
    "pd.crosstab(train.exam1_desc, train.fails_class)"
   ]
  },
  {
   "cell_type": "markdown",
   "id": "15deee3c-0d48-4e25-8f34-c3bd78f0f3ec",
   "metadata": {},
   "source": [
    "Nobody who got a good grade on exam 1 went on to fail the class."
   ]
  },
  {
   "cell_type": "code",
   "execution_count": 50,
   "id": "554e4f9e-d091-49e5-a03d-dcc9f3494352",
   "metadata": {},
   "outputs": [
    {
     "data": {
      "text/html": [
       "<div>\n",
       "<style scoped>\n",
       "    .dataframe tbody tr th:only-of-type {\n",
       "        vertical-align: middle;\n",
       "    }\n",
       "\n",
       "    .dataframe tbody tr th {\n",
       "        vertical-align: top;\n",
       "    }\n",
       "\n",
       "    .dataframe thead th {\n",
       "        text-align: right;\n",
       "    }\n",
       "</style>\n",
       "<table border=\"1\" class=\"dataframe\">\n",
       "  <thead>\n",
       "    <tr style=\"text-align: right;\">\n",
       "      <th>fails_class</th>\n",
       "      <th>False</th>\n",
       "      <th>True</th>\n",
       "    </tr>\n",
       "    <tr>\n",
       "      <th>exam1_desc</th>\n",
       "      <th></th>\n",
       "      <th></th>\n",
       "    </tr>\n",
       "  </thead>\n",
       "  <tbody>\n",
       "    <tr>\n",
       "      <th>bad grade</th>\n",
       "      <td>0.675</td>\n",
       "      <td>0.325</td>\n",
       "    </tr>\n",
       "    <tr>\n",
       "      <th>good grade</th>\n",
       "      <td>1.000</td>\n",
       "      <td>0.000</td>\n",
       "    </tr>\n",
       "  </tbody>\n",
       "</table>\n",
       "</div>"
      ],
      "text/plain": [
       "fails_class  False  True \n",
       "exam1_desc               \n",
       "bad grade    0.675  0.325\n",
       "good grade   1.000  0.000"
      ]
     },
     "execution_count": 50,
     "metadata": {},
     "output_type": "execute_result"
    }
   ],
   "source": [
    "pd.crosstab(train.exam1_desc, train.fails_class, normalize='index')"
   ]
  },
  {
   "cell_type": "markdown",
   "id": "157222a0-a245-4e98-aea9-b1881ed1f92e",
   "metadata": {},
   "source": [
    "* Almost a third (32.5%) of students who get a bad grade (<= 75) on the first exam end up failing the class."
   ]
  },
  {
   "cell_type": "markdown",
   "id": "ec024b19-6256-4c3a-8691-347e2a1df1c5",
   "metadata": {},
   "source": [
    "This suggests we can intervene in students likely to fail by taking a look at the score on the first exam."
   ]
  }
 ],
 "metadata": {
  "kernelspec": {
   "display_name": "Python 3",
   "language": "python",
   "name": "python3"
  },
  "language_info": {
   "codemirror_mode": {
    "name": "ipython",
    "version": 3
   },
   "file_extension": ".py",
   "mimetype": "text/x-python",
   "name": "python",
   "nbconvert_exporter": "python",
   "pygments_lexer": "ipython3",
   "version": "3.8.8"
  }
 },
 "nbformat": 4,
 "nbformat_minor": 5
}
