{
 "cells": [
  {
   "cell_type": "code",
   "execution_count": 11,
   "id": "1efe4eda",
   "metadata": {},
   "outputs": [],
   "source": [
    "#first begin with imports\n",
    "import warnings\n",
    "warnings.filterwarnings(\"ignore\")\n",
    "import env\n",
    "import numpy as np\n",
    "import pandas as pd\n",
    "import seaborn as sns\n",
    "import matplotlib.pyplot as plt\n",
    "from pydataset import data\n",
    "from statsmodels.formula.api import ols\n",
    "import feature as fe\n",
    "\n",
    "from scipy import stats\n",
    "from sklearn.metrics import mean_squared_error, r2_score, explained_variance_score\n",
    "\n",
    "from sklearn.linear_model import LinearRegression\n",
    "from sklearn.feature_selection import f_regression, RFE\n",
    "from sklearn.metrics import mean_squared_error\n",
    "from math import sqrt\n",
    "import matplotlib.pyplot as plt\n",
    "\n",
    "from sklearn.feature_selection import SelectKBest, f_regression\n",
    "from sklearn.model_selection import train_test_split\n",
    "from sklearn.preprocessing import MinMaxScaler"
   ]
  },
  {
   "cell_type": "code",
   "execution_count": 12,
   "id": "5d95144f",
   "metadata": {},
   "outputs": [
    {
     "data": {
      "text/html": [
       "<div>\n",
       "<style scoped>\n",
       "    .dataframe tbody tr th:only-of-type {\n",
       "        vertical-align: middle;\n",
       "    }\n",
       "\n",
       "    .dataframe tbody tr th {\n",
       "        vertical-align: top;\n",
       "    }\n",
       "\n",
       "    .dataframe thead th {\n",
       "        text-align: right;\n",
       "    }\n",
       "</style>\n",
       "<table border=\"1\" class=\"dataframe\">\n",
       "  <thead>\n",
       "    <tr style=\"text-align: right;\">\n",
       "      <th></th>\n",
       "      <th>total_bill</th>\n",
       "      <th>tip</th>\n",
       "      <th>sex</th>\n",
       "      <th>smoker</th>\n",
       "      <th>day</th>\n",
       "      <th>time</th>\n",
       "      <th>size</th>\n",
       "    </tr>\n",
       "  </thead>\n",
       "  <tbody>\n",
       "    <tr>\n",
       "      <th>1</th>\n",
       "      <td>16.99</td>\n",
       "      <td>1.01</td>\n",
       "      <td>Female</td>\n",
       "      <td>No</td>\n",
       "      <td>Sun</td>\n",
       "      <td>Dinner</td>\n",
       "      <td>2</td>\n",
       "    </tr>\n",
       "    <tr>\n",
       "      <th>2</th>\n",
       "      <td>10.34</td>\n",
       "      <td>1.66</td>\n",
       "      <td>Male</td>\n",
       "      <td>No</td>\n",
       "      <td>Sun</td>\n",
       "      <td>Dinner</td>\n",
       "      <td>3</td>\n",
       "    </tr>\n",
       "    <tr>\n",
       "      <th>3</th>\n",
       "      <td>21.01</td>\n",
       "      <td>3.50</td>\n",
       "      <td>Male</td>\n",
       "      <td>No</td>\n",
       "      <td>Sun</td>\n",
       "      <td>Dinner</td>\n",
       "      <td>3</td>\n",
       "    </tr>\n",
       "    <tr>\n",
       "      <th>4</th>\n",
       "      <td>23.68</td>\n",
       "      <td>3.31</td>\n",
       "      <td>Male</td>\n",
       "      <td>No</td>\n",
       "      <td>Sun</td>\n",
       "      <td>Dinner</td>\n",
       "      <td>2</td>\n",
       "    </tr>\n",
       "    <tr>\n",
       "      <th>5</th>\n",
       "      <td>24.59</td>\n",
       "      <td>3.61</td>\n",
       "      <td>Female</td>\n",
       "      <td>No</td>\n",
       "      <td>Sun</td>\n",
       "      <td>Dinner</td>\n",
       "      <td>4</td>\n",
       "    </tr>\n",
       "    <tr>\n",
       "      <th>...</th>\n",
       "      <td>...</td>\n",
       "      <td>...</td>\n",
       "      <td>...</td>\n",
       "      <td>...</td>\n",
       "      <td>...</td>\n",
       "      <td>...</td>\n",
       "      <td>...</td>\n",
       "    </tr>\n",
       "    <tr>\n",
       "      <th>240</th>\n",
       "      <td>29.03</td>\n",
       "      <td>5.92</td>\n",
       "      <td>Male</td>\n",
       "      <td>No</td>\n",
       "      <td>Sat</td>\n",
       "      <td>Dinner</td>\n",
       "      <td>3</td>\n",
       "    </tr>\n",
       "    <tr>\n",
       "      <th>241</th>\n",
       "      <td>27.18</td>\n",
       "      <td>2.00</td>\n",
       "      <td>Female</td>\n",
       "      <td>Yes</td>\n",
       "      <td>Sat</td>\n",
       "      <td>Dinner</td>\n",
       "      <td>2</td>\n",
       "    </tr>\n",
       "    <tr>\n",
       "      <th>242</th>\n",
       "      <td>22.67</td>\n",
       "      <td>2.00</td>\n",
       "      <td>Male</td>\n",
       "      <td>Yes</td>\n",
       "      <td>Sat</td>\n",
       "      <td>Dinner</td>\n",
       "      <td>2</td>\n",
       "    </tr>\n",
       "    <tr>\n",
       "      <th>243</th>\n",
       "      <td>17.82</td>\n",
       "      <td>1.75</td>\n",
       "      <td>Male</td>\n",
       "      <td>No</td>\n",
       "      <td>Sat</td>\n",
       "      <td>Dinner</td>\n",
       "      <td>2</td>\n",
       "    </tr>\n",
       "    <tr>\n",
       "      <th>244</th>\n",
       "      <td>18.78</td>\n",
       "      <td>3.00</td>\n",
       "      <td>Female</td>\n",
       "      <td>No</td>\n",
       "      <td>Thur</td>\n",
       "      <td>Dinner</td>\n",
       "      <td>2</td>\n",
       "    </tr>\n",
       "  </tbody>\n",
       "</table>\n",
       "<p>244 rows × 7 columns</p>\n",
       "</div>"
      ],
      "text/plain": [
       "     total_bill   tip     sex smoker   day    time  size\n",
       "1         16.99  1.01  Female     No   Sun  Dinner     2\n",
       "2         10.34  1.66    Male     No   Sun  Dinner     3\n",
       "3         21.01  3.50    Male     No   Sun  Dinner     3\n",
       "4         23.68  3.31    Male     No   Sun  Dinner     2\n",
       "5         24.59  3.61  Female     No   Sun  Dinner     4\n",
       "..          ...   ...     ...    ...   ...     ...   ...\n",
       "240       29.03  5.92    Male     No   Sat  Dinner     3\n",
       "241       27.18  2.00  Female    Yes   Sat  Dinner     2\n",
       "242       22.67  2.00    Male    Yes   Sat  Dinner     2\n",
       "243       17.82  1.75    Male     No   Sat  Dinner     2\n",
       "244       18.78  3.00  Female     No  Thur  Dinner     2\n",
       "\n",
       "[244 rows x 7 columns]"
      ]
     },
     "execution_count": 12,
     "metadata": {},
     "output_type": "execute_result"
    }
   ],
   "source": [
    "#load tips dataset and take a look\n",
    "tips = data('tips')\n",
    "tips"
   ]
  },
  {
   "cell_type": "markdown",
   "id": "19cb2846",
   "metadata": {},
   "source": [
    "1a.) Create a column named tip_percentage. This should be the tip amount divided by the total bill."
   ]
  },
  {
   "cell_type": "code",
   "execution_count": 13,
   "id": "cc591aea",
   "metadata": {},
   "outputs": [],
   "source": [
    "#making a new column which is tip divided by total bill and rounded to 2 decimal places\n",
    "tips['tip_percentage'] = round(tips['tip']/tips['total_bill'],2)"
   ]
  },
  {
   "cell_type": "code",
   "execution_count": 14,
   "id": "c5871297",
   "metadata": {},
   "outputs": [
    {
     "data": {
      "text/html": [
       "<div>\n",
       "<style scoped>\n",
       "    .dataframe tbody tr th:only-of-type {\n",
       "        vertical-align: middle;\n",
       "    }\n",
       "\n",
       "    .dataframe tbody tr th {\n",
       "        vertical-align: top;\n",
       "    }\n",
       "\n",
       "    .dataframe thead th {\n",
       "        text-align: right;\n",
       "    }\n",
       "</style>\n",
       "<table border=\"1\" class=\"dataframe\">\n",
       "  <thead>\n",
       "    <tr style=\"text-align: right;\">\n",
       "      <th></th>\n",
       "      <th>total_bill</th>\n",
       "      <th>tip</th>\n",
       "      <th>sex</th>\n",
       "      <th>smoker</th>\n",
       "      <th>day</th>\n",
       "      <th>time</th>\n",
       "      <th>size</th>\n",
       "      <th>tip_percentage</th>\n",
       "    </tr>\n",
       "  </thead>\n",
       "  <tbody>\n",
       "    <tr>\n",
       "      <th>1</th>\n",
       "      <td>16.99</td>\n",
       "      <td>1.01</td>\n",
       "      <td>Female</td>\n",
       "      <td>No</td>\n",
       "      <td>Sun</td>\n",
       "      <td>Dinner</td>\n",
       "      <td>2</td>\n",
       "      <td>0.06</td>\n",
       "    </tr>\n",
       "    <tr>\n",
       "      <th>2</th>\n",
       "      <td>10.34</td>\n",
       "      <td>1.66</td>\n",
       "      <td>Male</td>\n",
       "      <td>No</td>\n",
       "      <td>Sun</td>\n",
       "      <td>Dinner</td>\n",
       "      <td>3</td>\n",
       "      <td>0.16</td>\n",
       "    </tr>\n",
       "    <tr>\n",
       "      <th>3</th>\n",
       "      <td>21.01</td>\n",
       "      <td>3.50</td>\n",
       "      <td>Male</td>\n",
       "      <td>No</td>\n",
       "      <td>Sun</td>\n",
       "      <td>Dinner</td>\n",
       "      <td>3</td>\n",
       "      <td>0.17</td>\n",
       "    </tr>\n",
       "    <tr>\n",
       "      <th>4</th>\n",
       "      <td>23.68</td>\n",
       "      <td>3.31</td>\n",
       "      <td>Male</td>\n",
       "      <td>No</td>\n",
       "      <td>Sun</td>\n",
       "      <td>Dinner</td>\n",
       "      <td>2</td>\n",
       "      <td>0.14</td>\n",
       "    </tr>\n",
       "    <tr>\n",
       "      <th>5</th>\n",
       "      <td>24.59</td>\n",
       "      <td>3.61</td>\n",
       "      <td>Female</td>\n",
       "      <td>No</td>\n",
       "      <td>Sun</td>\n",
       "      <td>Dinner</td>\n",
       "      <td>4</td>\n",
       "      <td>0.15</td>\n",
       "    </tr>\n",
       "  </tbody>\n",
       "</table>\n",
       "</div>"
      ],
      "text/plain": [
       "   total_bill   tip     sex smoker  day    time  size  tip_percentage\n",
       "1       16.99  1.01  Female     No  Sun  Dinner     2            0.06\n",
       "2       10.34  1.66    Male     No  Sun  Dinner     3            0.16\n",
       "3       21.01  3.50    Male     No  Sun  Dinner     3            0.17\n",
       "4       23.68  3.31    Male     No  Sun  Dinner     2            0.14\n",
       "5       24.59  3.61  Female     No  Sun  Dinner     4            0.15"
      ]
     },
     "execution_count": 14,
     "metadata": {},
     "output_type": "execute_result"
    }
   ],
   "source": [
    "tips.head()"
   ]
  },
  {
   "cell_type": "code",
   "execution_count": 15,
   "id": "c0cc121b",
   "metadata": {},
   "outputs": [
    {
     "name": "stdout",
     "output_type": "stream",
     "text": [
      "<class 'pandas.core.frame.DataFrame'>\n",
      "Int64Index: 244 entries, 1 to 244\n",
      "Data columns (total 8 columns):\n",
      " #   Column          Non-Null Count  Dtype  \n",
      "---  ------          --------------  -----  \n",
      " 0   total_bill      244 non-null    float64\n",
      " 1   tip             244 non-null    float64\n",
      " 2   sex             244 non-null    object \n",
      " 3   smoker          244 non-null    object \n",
      " 4   day             244 non-null    object \n",
      " 5   time            244 non-null    object \n",
      " 6   size            244 non-null    int64  \n",
      " 7   tip_percentage  244 non-null    float64\n",
      "dtypes: float64(3), int64(1), object(4)\n",
      "memory usage: 17.2+ KB\n"
     ]
    }
   ],
   "source": [
    "tips.info()"
   ]
  },
  {
   "cell_type": "markdown",
   "id": "bf5aea6d",
   "metadata": {},
   "source": [
    "1b.) Create a column named price_per_person. This should be the total bill divided by the party size."
   ]
  },
  {
   "cell_type": "code",
   "execution_count": 16,
   "id": "65769420",
   "metadata": {},
   "outputs": [],
   "source": [
    "#make sure to use brackets since size is a keyword\n",
    "tips['price_per_person'] = (tips['total_bill'])/(tips['size'])"
   ]
  },
  {
   "cell_type": "code",
   "execution_count": 17,
   "id": "453604e1",
   "metadata": {},
   "outputs": [
    {
     "data": {
      "text/html": [
       "<div>\n",
       "<style scoped>\n",
       "    .dataframe tbody tr th:only-of-type {\n",
       "        vertical-align: middle;\n",
       "    }\n",
       "\n",
       "    .dataframe tbody tr th {\n",
       "        vertical-align: top;\n",
       "    }\n",
       "\n",
       "    .dataframe thead th {\n",
       "        text-align: right;\n",
       "    }\n",
       "</style>\n",
       "<table border=\"1\" class=\"dataframe\">\n",
       "  <thead>\n",
       "    <tr style=\"text-align: right;\">\n",
       "      <th></th>\n",
       "      <th>total_bill</th>\n",
       "      <th>tip</th>\n",
       "      <th>sex</th>\n",
       "      <th>smoker</th>\n",
       "      <th>day</th>\n",
       "      <th>time</th>\n",
       "      <th>size</th>\n",
       "      <th>tip_percentage</th>\n",
       "      <th>price_per_person</th>\n",
       "    </tr>\n",
       "  </thead>\n",
       "  <tbody>\n",
       "    <tr>\n",
       "      <th>1</th>\n",
       "      <td>16.99</td>\n",
       "      <td>1.01</td>\n",
       "      <td>Female</td>\n",
       "      <td>No</td>\n",
       "      <td>Sun</td>\n",
       "      <td>Dinner</td>\n",
       "      <td>2</td>\n",
       "      <td>0.06</td>\n",
       "      <td>8.495000</td>\n",
       "    </tr>\n",
       "    <tr>\n",
       "      <th>2</th>\n",
       "      <td>10.34</td>\n",
       "      <td>1.66</td>\n",
       "      <td>Male</td>\n",
       "      <td>No</td>\n",
       "      <td>Sun</td>\n",
       "      <td>Dinner</td>\n",
       "      <td>3</td>\n",
       "      <td>0.16</td>\n",
       "      <td>3.446667</td>\n",
       "    </tr>\n",
       "    <tr>\n",
       "      <th>3</th>\n",
       "      <td>21.01</td>\n",
       "      <td>3.50</td>\n",
       "      <td>Male</td>\n",
       "      <td>No</td>\n",
       "      <td>Sun</td>\n",
       "      <td>Dinner</td>\n",
       "      <td>3</td>\n",
       "      <td>0.17</td>\n",
       "      <td>7.003333</td>\n",
       "    </tr>\n",
       "    <tr>\n",
       "      <th>4</th>\n",
       "      <td>23.68</td>\n",
       "      <td>3.31</td>\n",
       "      <td>Male</td>\n",
       "      <td>No</td>\n",
       "      <td>Sun</td>\n",
       "      <td>Dinner</td>\n",
       "      <td>2</td>\n",
       "      <td>0.14</td>\n",
       "      <td>11.840000</td>\n",
       "    </tr>\n",
       "    <tr>\n",
       "      <th>5</th>\n",
       "      <td>24.59</td>\n",
       "      <td>3.61</td>\n",
       "      <td>Female</td>\n",
       "      <td>No</td>\n",
       "      <td>Sun</td>\n",
       "      <td>Dinner</td>\n",
       "      <td>4</td>\n",
       "      <td>0.15</td>\n",
       "      <td>6.147500</td>\n",
       "    </tr>\n",
       "  </tbody>\n",
       "</table>\n",
       "</div>"
      ],
      "text/plain": [
       "   total_bill   tip     sex smoker  day    time  size  tip_percentage  \\\n",
       "1       16.99  1.01  Female     No  Sun  Dinner     2            0.06   \n",
       "2       10.34  1.66    Male     No  Sun  Dinner     3            0.16   \n",
       "3       21.01  3.50    Male     No  Sun  Dinner     3            0.17   \n",
       "4       23.68  3.31    Male     No  Sun  Dinner     2            0.14   \n",
       "5       24.59  3.61  Female     No  Sun  Dinner     4            0.15   \n",
       "\n",
       "   price_per_person  \n",
       "1          8.495000  \n",
       "2          3.446667  \n",
       "3          7.003333  \n",
       "4         11.840000  \n",
       "5          6.147500  "
      ]
     },
     "execution_count": 17,
     "metadata": {},
     "output_type": "execute_result"
    }
   ],
   "source": [
    "tips.head()"
   ]
  },
  {
   "cell_type": "markdown",
   "id": "e1db3319",
   "metadata": {},
   "source": [
    "\n",
    "1c.) Before using any of the methods discussed in the lesson, which features do you think would be most important for predicting the tip amount? The tip percentage?\n",
    "\n",
    "I think the most important for tip amount is\n",
    "\n",
    "size\n",
    "time\n",
    "I think the most important for tip percentage is\n",
    "\n",
    "total bill\n",
    "1d.) Use all the other numeric features to predict tip amount. Use select k best and recursive feature elimination to select the top 2 features. What are they?"
   ]
  },
  {
   "cell_type": "code",
   "execution_count": 18,
   "id": "c2f522eb",
   "metadata": {},
   "outputs": [],
   "source": [
    "target = 'tip'"
   ]
  },
  {
   "cell_type": "code",
   "execution_count": 19,
   "id": "789e11af",
   "metadata": {},
   "outputs": [],
   "source": [
    "X_train, y_train, X_validate, y_validate, X_test, y_test = fe.train_validate_test(tips, target)"
   ]
  },
  {
   "cell_type": "code",
   "execution_count": 20,
   "id": "7a564150",
   "metadata": {},
   "outputs": [
    {
     "data": {
      "text/plain": [
       "['sex', 'smoker', 'day', 'time']"
      ]
     },
     "execution_count": 20,
     "metadata": {},
     "output_type": "execute_result"
    }
   ],
   "source": [
    "obj_cols = fe.get_object_cols(X_train)\n",
    "obj_cols"
   ]
  },
  {
   "cell_type": "code",
   "execution_count": 21,
   "id": "bb85f07a",
   "metadata": {},
   "outputs": [
    {
     "data": {
      "text/plain": [
       "['total_bill', 'size', 'tip_percentage', 'price_per_person']"
      ]
     },
     "execution_count": 21,
     "metadata": {},
     "output_type": "execute_result"
    }
   ],
   "source": [
    "num_cols = fe.get_numeric_X_cols(X_train, obj_cols)\n",
    "num_cols"
   ]
  },
  {
   "cell_type": "code",
   "execution_count": 22,
   "id": "cd5d6e62",
   "metadata": {},
   "outputs": [],
   "source": [
    "X_train_scaled, X_validate_scaled, X_test_scaled = fe.min_max_scale(X_train, X_validate, X_test, num_cols)"
   ]
  },
  {
   "cell_type": "code",
   "execution_count": 23,
   "id": "029aa95d",
   "metadata": {},
   "outputs": [],
   "source": [
    "f_selector = SelectKBest(f_regression, k=2)"
   ]
  },
  {
   "cell_type": "code",
   "execution_count": 24,
   "id": "59e2636c",
   "metadata": {},
   "outputs": [
    {
     "data": {
      "text/plain": [
       "SelectKBest(k=2, score_func=<function f_regression at 0x7fdeb034f040>)"
      ]
     },
     "execution_count": 24,
     "metadata": {},
     "output_type": "execute_result"
    }
   ],
   "source": [
    "f_selector.fit(X_train_scaled, y_train)"
   ]
  },
  {
   "cell_type": "code",
   "execution_count": 25,
   "id": "ce45c0ba",
   "metadata": {},
   "outputs": [
    {
     "name": "stdout",
     "output_type": "stream",
     "text": [
      "(136, 4)\n",
      "(136, 2)\n"
     ]
    }
   ],
   "source": [
    "X_reduced = f_selector.transform(X_train_scaled)\n",
    "\n",
    "print(X_train_scaled.shape)\n",
    "print(X_reduced.shape)"
   ]
  },
  {
   "cell_type": "code",
   "execution_count": 26,
   "id": "92f16979",
   "metadata": {},
   "outputs": [
    {
     "name": "stdout",
     "output_type": "stream",
     "text": [
      "(136, 2)\n"
     ]
    }
   ],
   "source": [
    "#or condense the last 3 steps into this\n",
    "X_reduced2 = SelectKBest(f_regression, k=2).fit_transform(X_train_scaled, y_train)\n",
    "print(X_reduced2.shape)"
   ]
  },
  {
   "cell_type": "code",
   "execution_count": 27,
   "id": "ff9ff4b0",
   "metadata": {},
   "outputs": [
    {
     "name": "stdout",
     "output_type": "stream",
     "text": [
      "[ True  True False False]\n"
     ]
    }
   ],
   "source": [
    "f_support = f_selector.get_support()\n",
    "\n",
    "print(f_support)"
   ]
  },
  {
   "cell_type": "code",
   "execution_count": 28,
   "id": "81b45a6d",
   "metadata": {},
   "outputs": [
    {
     "name": "stdout",
     "output_type": "stream",
     "text": [
      "2 selected features\n",
      "The selected features are ['total_bill', 'size'] for tip amount\n"
     ]
    }
   ],
   "source": [
    "f_feature = X_train_scaled.loc[:,f_support].columns.tolist()\n",
    "\n",
    "# you could also get the list this way (among many others)\n",
    "# f_feature = [X_train_scaled.columns.values[i] for i in range(len(feature_mask)) if feature_mask[i]==True]\n",
    "\n",
    "print(str(len(f_feature)), 'selected features')\n",
    "print(f'The selected features are {f_feature} for tip amount')"
   ]
  },
  {
   "cell_type": "code",
   "execution_count": 29,
   "id": "b017fcfc",
   "metadata": {},
   "outputs": [
    {
     "data": {
      "text/html": [
       "<div>\n",
       "<style scoped>\n",
       "    .dataframe tbody tr th:only-of-type {\n",
       "        vertical-align: middle;\n",
       "    }\n",
       "\n",
       "    .dataframe tbody tr th {\n",
       "        vertical-align: top;\n",
       "    }\n",
       "\n",
       "    .dataframe thead th {\n",
       "        text-align: right;\n",
       "    }\n",
       "</style>\n",
       "<table border=\"1\" class=\"dataframe\">\n",
       "  <thead>\n",
       "    <tr style=\"text-align: right;\">\n",
       "      <th></th>\n",
       "      <th>Var</th>\n",
       "      <th>Rank</th>\n",
       "    </tr>\n",
       "  </thead>\n",
       "  <tbody>\n",
       "    <tr>\n",
       "      <th>0</th>\n",
       "      <td>total_bill</td>\n",
       "      <td>1</td>\n",
       "    </tr>\n",
       "    <tr>\n",
       "      <th>1</th>\n",
       "      <td>size</td>\n",
       "      <td>2</td>\n",
       "    </tr>\n",
       "    <tr>\n",
       "      <th>2</th>\n",
       "      <td>tip_percentage</td>\n",
       "      <td>1</td>\n",
       "    </tr>\n",
       "    <tr>\n",
       "      <th>3</th>\n",
       "      <td>price_per_person</td>\n",
       "      <td>3</td>\n",
       "    </tr>\n",
       "  </tbody>\n",
       "</table>\n",
       "</div>"
      ],
      "text/plain": [
       "                Var  Rank\n",
       "0        total_bill     1\n",
       "1              size     2\n",
       "2    tip_percentage     1\n",
       "3  price_per_person     3"
      ]
     },
     "execution_count": 29,
     "metadata": {},
     "output_type": "execute_result"
    }
   ],
   "source": [
    "#recursive\n",
    "lm=LinearRegression()\n",
    "rfe = RFE(lm, 2)\n",
    "X_rfe = rfe.fit_transform(X_train_scaled,y_train) \n",
    "lm.fit(X_rfe,y_train)\n",
    "\n",
    "var_ranks = rfe.ranking_\n",
    "var_names = X_train_scaled.columns.tolist()\n",
    "\n",
    "pd.DataFrame({'Var': var_names, 'Rank': var_ranks})"
   ]
  },
  {
   "cell_type": "code",
   "execution_count": 30,
   "id": "12f41176",
   "metadata": {},
   "outputs": [],
   "source": [
    "#selected total_bill and tip_percentage for tip amount"
   ]
  },
  {
   "cell_type": "markdown",
   "id": "004463b1",
   "metadata": {},
   "source": [
    "1e.) Use all the other numeric features to predict tip percentage. Use select k best and recursive feature elimination to select the top 2 features. What are they?"
   ]
  },
  {
   "cell_type": "code",
   "execution_count": 31,
   "id": "2e61e033",
   "metadata": {},
   "outputs": [],
   "source": [
    "new_target = 'tip_percentage'"
   ]
  },
  {
   "cell_type": "code",
   "execution_count": 32,
   "id": "91e0d0c1",
   "metadata": {},
   "outputs": [
    {
     "name": "stdout",
     "output_type": "stream",
     "text": [
      "(136, 2)\n"
     ]
    }
   ],
   "source": [
    "X_train, y_train, X_validate, y_validate, X_test, y_test = fe.train_validate_test(tips, new_target)\n",
    "obj_cols = fe.get_object_cols(X_train)\n",
    "num_cols = fe.get_numeric_X_cols(X_train, obj_cols)\n",
    "X_train_scaled, X_validate_scaled, X_test_scaled = fe.min_max_scale(X_train, X_validate, X_test, num_cols)\n",
    "\n",
    "X_reduced = SelectKBest(f_regression, k=2).fit_transform(X_train_scaled, y_train)\n",
    "print(X_reduced.shape)"
   ]
  },
  {
   "cell_type": "code",
   "execution_count": 33,
   "id": "8825d3ce",
   "metadata": {},
   "outputs": [
    {
     "name": "stdout",
     "output_type": "stream",
     "text": [
      "2 selected features\n",
      "The selected features are ['total_bill', 'tip'] for tip percentage\n"
     ]
    }
   ],
   "source": [
    "f_support = f_selector.get_support()\n",
    "f_feature = X_train_scaled.loc[:,f_support].columns.tolist()\n",
    "\n",
    "print(str(len(f_feature)), 'selected features')\n",
    "print(f'The selected features are {f_feature} for tip percentage')"
   ]
  },
  {
   "cell_type": "code",
   "execution_count": 34,
   "id": "f4aec964",
   "metadata": {},
   "outputs": [
    {
     "data": {
      "text/plain": [
       "LinearRegression()"
      ]
     },
     "execution_count": 34,
     "metadata": {},
     "output_type": "execute_result"
    }
   ],
   "source": [
    "#recursive\n",
    "lm=LinearRegression()\n",
    "rfe = RFE(lm, 2)\n",
    "X_rfe = rfe.fit_transform(X_train_scaled,y_train) \n",
    "lm.fit(X_rfe,y_train)"
   ]
  },
  {
   "cell_type": "code",
   "execution_count": 35,
   "id": "f44a1fff",
   "metadata": {},
   "outputs": [
    {
     "data": {
      "text/html": [
       "<div>\n",
       "<style scoped>\n",
       "    .dataframe tbody tr th:only-of-type {\n",
       "        vertical-align: middle;\n",
       "    }\n",
       "\n",
       "    .dataframe tbody tr th {\n",
       "        vertical-align: top;\n",
       "    }\n",
       "\n",
       "    .dataframe thead th {\n",
       "        text-align: right;\n",
       "    }\n",
       "</style>\n",
       "<table border=\"1\" class=\"dataframe\">\n",
       "  <thead>\n",
       "    <tr style=\"text-align: right;\">\n",
       "      <th></th>\n",
       "      <th>Var</th>\n",
       "      <th>Rank</th>\n",
       "    </tr>\n",
       "  </thead>\n",
       "  <tbody>\n",
       "    <tr>\n",
       "      <th>0</th>\n",
       "      <td>total_bill</td>\n",
       "      <td>1</td>\n",
       "    </tr>\n",
       "    <tr>\n",
       "      <th>1</th>\n",
       "      <td>tip</td>\n",
       "      <td>1</td>\n",
       "    </tr>\n",
       "    <tr>\n",
       "      <th>2</th>\n",
       "      <td>size</td>\n",
       "      <td>2</td>\n",
       "    </tr>\n",
       "    <tr>\n",
       "      <th>3</th>\n",
       "      <td>price_per_person</td>\n",
       "      <td>3</td>\n",
       "    </tr>\n",
       "  </tbody>\n",
       "</table>\n",
       "</div>"
      ],
      "text/plain": [
       "                Var  Rank\n",
       "0        total_bill     1\n",
       "1               tip     1\n",
       "2              size     2\n",
       "3  price_per_person     3"
      ]
     },
     "execution_count": 35,
     "metadata": {},
     "output_type": "execute_result"
    }
   ],
   "source": [
    "var_ranks = rfe.ranking_\n",
    "var_names = X_train_scaled.columns.tolist()\n",
    "\n",
    "pd.DataFrame({'Var': var_names, 'Rank': var_ranks})"
   ]
  },
  {
   "cell_type": "code",
   "execution_count": 36,
   "id": "052e4ee0",
   "metadata": {},
   "outputs": [],
   "source": [
    "#selected total_bill and tip as features for predicting tip percentage"
   ]
  },
  {
   "cell_type": "markdown",
   "id": "4d1a6d67",
   "metadata": {},
   "source": [
    "1f.) Why do you think select k best and recursive feature elimination might give different answers for the top features? Does this change as you change the number of features your are selecting?\n",
    "\n",
    "Select K Best uses correlation to score relationships and select the strongest using f-regression. RFE evaluates performance metrics, deletes the weakest, then keeps running it until it gets your desired number of returned features. Therefore, they can be different because of their different approaches. Both should come up with about the same results, but as you add more features, there may be discrepencies with how a regression is ranked vs performance metrics. If features are very close to each other, I believe the methods may optimize different features.\n",
    "\n",
    "\n",
    "\n",
    "2.) Write a function named select_kbest that takes in the predictors (X), the target (y), and the number of features to select (k) and returns the names of the top k selected features based on the SelectKBest class. Test your function with the tips dataset. You should see the same results as when you did the process manually."
   ]
  },
  {
   "cell_type": "code",
   "execution_count": 37,
   "id": "158aa790",
   "metadata": {},
   "outputs": [],
   "source": [
    "def select_kbest(X_train_scaled, target, n):\n",
    "    X_reduced2 = SelectKBest(f_regression, k=n).fit_transform(X_train_scaled, y_train)\n",
    "    f_support = f_selector.get_support()\n",
    "    f_feature = X_train_scaled.loc[:,f_support].columns.tolist()\n",
    "    print(str(len(f_feature)), 'selected features')\n",
    "    print(f'The selected features are {f_feature}')"
   ]
  },
  {
   "cell_type": "code",
   "execution_count": 38,
   "id": "49cacc24",
   "metadata": {},
   "outputs": [
    {
     "name": "stdout",
     "output_type": "stream",
     "text": [
      "2 selected features\n",
      "The selected features are ['total_bill', 'tip']\n"
     ]
    }
   ],
   "source": [
    "select_kbest(X_train_scaled, 'tip', 2)"
   ]
  },
  {
   "cell_type": "code",
   "execution_count": 39,
   "id": "bb892f2b",
   "metadata": {},
   "outputs": [
    {
     "name": "stdout",
     "output_type": "stream",
     "text": [
      "2 selected features\n",
      "The selected features are ['total_bill', 'tip']\n"
     ]
    }
   ],
   "source": [
    "select_kbest(X_train_scaled,'tip_percentage',2)"
   ]
  },
  {
   "cell_type": "markdown",
   "id": "25f41062",
   "metadata": {},
   "source": [
    "3.) Write a function named rfe that takes in the predictors, the target, and the number of features to select. It should return the top k features based on the RFE class. Test your function with the tips dataset. You should see the same results as when you did the process manually."
   ]
  },
  {
   "cell_type": "code",
   "execution_count": 40,
   "id": "379c24d2",
   "metadata": {},
   "outputs": [],
   "source": [
    "def rfe(X_train_scaled, target, n):\n",
    "    lm=LinearRegression()\n",
    "    rfe = RFE(lm, n)\n",
    "    X_rfe = rfe.fit_transform(X_train_scaled,y_train) \n",
    "    lm.fit(X_rfe,y_train)\n",
    "    mask = rfe.support_\n",
    "    rfe_features = X_train_scaled.loc[:,mask].columns.tolist()\n",
    "    \n",
    "    print(str(len(rfe_features)), 'selected features')\n",
    "    print(rfe_features)"
   ]
  },
  {
   "cell_type": "code",
   "execution_count": 41,
   "id": "b3e4cdd7",
   "metadata": {},
   "outputs": [
    {
     "name": "stdout",
     "output_type": "stream",
     "text": [
      "2 selected features\n",
      "['total_bill', 'tip']\n"
     ]
    }
   ],
   "source": [
    "rfe(X_train_scaled, 'tip',2)"
   ]
  },
  {
   "cell_type": "code",
   "execution_count": 42,
   "id": "6003c735",
   "metadata": {},
   "outputs": [
    {
     "name": "stdout",
     "output_type": "stream",
     "text": [
      "2 selected features\n",
      "['total_bill', 'tip']\n"
     ]
    }
   ],
   "source": [
    "rfe(X_train_scaled, 'tip_percentage',2)"
   ]
  },
  {
   "cell_type": "markdown",
   "id": "22399eb6",
   "metadata": {},
   "source": [
    "4.) Load the swiss dataset and use all the other features to predict Fertility. Find the top 3 features using both select k best and recursive feature elimination (use the functions you just built to help you out)."
   ]
  },
  {
   "cell_type": "code",
   "execution_count": 43,
   "id": "912574bb",
   "metadata": {},
   "outputs": [],
   "source": [
    "swiss_df = data('swiss')"
   ]
  },
  {
   "cell_type": "code",
   "execution_count": 44,
   "id": "fcf83f07",
   "metadata": {},
   "outputs": [
    {
     "data": {
      "text/html": [
       "<div>\n",
       "<style scoped>\n",
       "    .dataframe tbody tr th:only-of-type {\n",
       "        vertical-align: middle;\n",
       "    }\n",
       "\n",
       "    .dataframe tbody tr th {\n",
       "        vertical-align: top;\n",
       "    }\n",
       "\n",
       "    .dataframe thead th {\n",
       "        text-align: right;\n",
       "    }\n",
       "</style>\n",
       "<table border=\"1\" class=\"dataframe\">\n",
       "  <thead>\n",
       "    <tr style=\"text-align: right;\">\n",
       "      <th></th>\n",
       "      <th>Fertility</th>\n",
       "      <th>Agriculture</th>\n",
       "      <th>Examination</th>\n",
       "      <th>Education</th>\n",
       "      <th>Catholic</th>\n",
       "      <th>Infant.Mortality</th>\n",
       "    </tr>\n",
       "  </thead>\n",
       "  <tbody>\n",
       "    <tr>\n",
       "      <th>Courtelary</th>\n",
       "      <td>80.2</td>\n",
       "      <td>17.0</td>\n",
       "      <td>15</td>\n",
       "      <td>12</td>\n",
       "      <td>9.96</td>\n",
       "      <td>22.2</td>\n",
       "    </tr>\n",
       "    <tr>\n",
       "      <th>Delemont</th>\n",
       "      <td>83.1</td>\n",
       "      <td>45.1</td>\n",
       "      <td>6</td>\n",
       "      <td>9</td>\n",
       "      <td>84.84</td>\n",
       "      <td>22.2</td>\n",
       "    </tr>\n",
       "    <tr>\n",
       "      <th>Franches-Mnt</th>\n",
       "      <td>92.5</td>\n",
       "      <td>39.7</td>\n",
       "      <td>5</td>\n",
       "      <td>5</td>\n",
       "      <td>93.40</td>\n",
       "      <td>20.2</td>\n",
       "    </tr>\n",
       "    <tr>\n",
       "      <th>Moutier</th>\n",
       "      <td>85.8</td>\n",
       "      <td>36.5</td>\n",
       "      <td>12</td>\n",
       "      <td>7</td>\n",
       "      <td>33.77</td>\n",
       "      <td>20.3</td>\n",
       "    </tr>\n",
       "    <tr>\n",
       "      <th>Neuveville</th>\n",
       "      <td>76.9</td>\n",
       "      <td>43.5</td>\n",
       "      <td>17</td>\n",
       "      <td>15</td>\n",
       "      <td>5.16</td>\n",
       "      <td>20.6</td>\n",
       "    </tr>\n",
       "  </tbody>\n",
       "</table>\n",
       "</div>"
      ],
      "text/plain": [
       "              Fertility  Agriculture  Examination  Education  Catholic  \\\n",
       "Courtelary         80.2         17.0           15         12      9.96   \n",
       "Delemont           83.1         45.1            6          9     84.84   \n",
       "Franches-Mnt       92.5         39.7            5          5     93.40   \n",
       "Moutier            85.8         36.5           12          7     33.77   \n",
       "Neuveville         76.9         43.5           17         15      5.16   \n",
       "\n",
       "              Infant.Mortality  \n",
       "Courtelary                22.2  \n",
       "Delemont                  22.2  \n",
       "Franches-Mnt              20.2  \n",
       "Moutier                   20.3  \n",
       "Neuveville                20.6  "
      ]
     },
     "execution_count": 44,
     "metadata": {},
     "output_type": "execute_result"
    }
   ],
   "source": [
    "\n",
    "swiss_df.head()"
   ]
  },
  {
   "cell_type": "code",
   "execution_count": 45,
   "id": "eb19569d",
   "metadata": {},
   "outputs": [
    {
     "name": "stdout",
     "output_type": "stream",
     "text": [
      "<class 'pandas.core.frame.DataFrame'>\n",
      "Index: 47 entries, Courtelary to Rive Gauche\n",
      "Data columns (total 6 columns):\n",
      " #   Column            Non-Null Count  Dtype  \n",
      "---  ------            --------------  -----  \n",
      " 0   Fertility         47 non-null     float64\n",
      " 1   Agriculture       47 non-null     float64\n",
      " 2   Examination       47 non-null     int64  \n",
      " 3   Education         47 non-null     int64  \n",
      " 4   Catholic          47 non-null     float64\n",
      " 5   Infant.Mortality  47 non-null     float64\n",
      "dtypes: float64(4), int64(2)\n",
      "memory usage: 2.6+ KB\n"
     ]
    }
   ],
   "source": [
    "swiss_df.info()"
   ]
  },
  {
   "cell_type": "code",
   "execution_count": 46,
   "id": "290ad6ad",
   "metadata": {},
   "outputs": [],
   "source": [
    "target = 'Fertility'"
   ]
  },
  {
   "cell_type": "code",
   "execution_count": 47,
   "id": "307440cd",
   "metadata": {},
   "outputs": [],
   "source": [
    "X_train, y_train, X_validate, y_validate, X_test, y_test = fe.train_validate_test(swiss_df, target)"
   ]
  },
  {
   "cell_type": "code",
   "execution_count": 48,
   "id": "27553538",
   "metadata": {},
   "outputs": [
    {
     "data": {
      "text/html": [
       "<div>\n",
       "<style scoped>\n",
       "    .dataframe tbody tr th:only-of-type {\n",
       "        vertical-align: middle;\n",
       "    }\n",
       "\n",
       "    .dataframe tbody tr th {\n",
       "        vertical-align: top;\n",
       "    }\n",
       "\n",
       "    .dataframe thead th {\n",
       "        text-align: right;\n",
       "    }\n",
       "</style>\n",
       "<table border=\"1\" class=\"dataframe\">\n",
       "  <thead>\n",
       "    <tr style=\"text-align: right;\">\n",
       "      <th></th>\n",
       "      <th>Agriculture</th>\n",
       "      <th>Examination</th>\n",
       "      <th>Education</th>\n",
       "      <th>Catholic</th>\n",
       "      <th>Infant.Mortality</th>\n",
       "    </tr>\n",
       "  </thead>\n",
       "  <tbody>\n",
       "    <tr>\n",
       "      <th>Rolle</th>\n",
       "      <td>60.8</td>\n",
       "      <td>16</td>\n",
       "      <td>10</td>\n",
       "      <td>7.72</td>\n",
       "      <td>16.3</td>\n",
       "    </tr>\n",
       "    <tr>\n",
       "      <th>Lavaux</th>\n",
       "      <td>73.0</td>\n",
       "      <td>19</td>\n",
       "      <td>9</td>\n",
       "      <td>2.84</td>\n",
       "      <td>20.0</td>\n",
       "    </tr>\n",
       "    <tr>\n",
       "      <th>Nyone</th>\n",
       "      <td>50.9</td>\n",
       "      <td>22</td>\n",
       "      <td>12</td>\n",
       "      <td>15.14</td>\n",
       "      <td>16.7</td>\n",
       "    </tr>\n",
       "    <tr>\n",
       "      <th>Conthey</th>\n",
       "      <td>85.9</td>\n",
       "      <td>3</td>\n",
       "      <td>2</td>\n",
       "      <td>99.71</td>\n",
       "      <td>15.1</td>\n",
       "    </tr>\n",
       "    <tr>\n",
       "      <th>Yverdon</th>\n",
       "      <td>49.5</td>\n",
       "      <td>15</td>\n",
       "      <td>8</td>\n",
       "      <td>6.10</td>\n",
       "      <td>22.5</td>\n",
       "    </tr>\n",
       "    <tr>\n",
       "      <th>Oron</th>\n",
       "      <td>71.2</td>\n",
       "      <td>12</td>\n",
       "      <td>1</td>\n",
       "      <td>2.40</td>\n",
       "      <td>21.0</td>\n",
       "    </tr>\n",
       "    <tr>\n",
       "      <th>Cossonay</th>\n",
       "      <td>69.3</td>\n",
       "      <td>22</td>\n",
       "      <td>5</td>\n",
       "      <td>2.82</td>\n",
       "      <td>18.7</td>\n",
       "    </tr>\n",
       "    <tr>\n",
       "      <th>St Maurice</th>\n",
       "      <td>75.9</td>\n",
       "      <td>9</td>\n",
       "      <td>9</td>\n",
       "      <td>99.06</td>\n",
       "      <td>17.8</td>\n",
       "    </tr>\n",
       "    <tr>\n",
       "      <th>Franches-Mnt</th>\n",
       "      <td>39.7</td>\n",
       "      <td>5</td>\n",
       "      <td>5</td>\n",
       "      <td>93.40</td>\n",
       "      <td>20.2</td>\n",
       "    </tr>\n",
       "    <tr>\n",
       "      <th>Orbe</th>\n",
       "      <td>54.1</td>\n",
       "      <td>20</td>\n",
       "      <td>6</td>\n",
       "      <td>4.20</td>\n",
       "      <td>15.3</td>\n",
       "    </tr>\n",
       "    <tr>\n",
       "      <th>Sarine</th>\n",
       "      <td>45.2</td>\n",
       "      <td>16</td>\n",
       "      <td>13</td>\n",
       "      <td>91.38</td>\n",
       "      <td>24.4</td>\n",
       "    </tr>\n",
       "    <tr>\n",
       "      <th>La Chauxdfnd</th>\n",
       "      <td>7.7</td>\n",
       "      <td>29</td>\n",
       "      <td>11</td>\n",
       "      <td>13.79</td>\n",
       "      <td>20.5</td>\n",
       "    </tr>\n",
       "    <tr>\n",
       "      <th>Neuchatel</th>\n",
       "      <td>17.6</td>\n",
       "      <td>35</td>\n",
       "      <td>32</td>\n",
       "      <td>16.92</td>\n",
       "      <td>23.0</td>\n",
       "    </tr>\n",
       "    <tr>\n",
       "      <th>Monthey</th>\n",
       "      <td>64.9</td>\n",
       "      <td>7</td>\n",
       "      <td>3</td>\n",
       "      <td>98.22</td>\n",
       "      <td>20.2</td>\n",
       "    </tr>\n",
       "    <tr>\n",
       "      <th>Broye</th>\n",
       "      <td>70.2</td>\n",
       "      <td>16</td>\n",
       "      <td>7</td>\n",
       "      <td>92.85</td>\n",
       "      <td>23.6</td>\n",
       "    </tr>\n",
       "    <tr>\n",
       "      <th>Paysd'enhaut</th>\n",
       "      <td>63.5</td>\n",
       "      <td>6</td>\n",
       "      <td>3</td>\n",
       "      <td>2.56</td>\n",
       "      <td>18.0</td>\n",
       "    </tr>\n",
       "    <tr>\n",
       "      <th>Le Locle</th>\n",
       "      <td>16.7</td>\n",
       "      <td>22</td>\n",
       "      <td>13</td>\n",
       "      <td>11.22</td>\n",
       "      <td>18.9</td>\n",
       "    </tr>\n",
       "    <tr>\n",
       "      <th>Sion</th>\n",
       "      <td>63.1</td>\n",
       "      <td>13</td>\n",
       "      <td>13</td>\n",
       "      <td>96.83</td>\n",
       "      <td>18.1</td>\n",
       "    </tr>\n",
       "    <tr>\n",
       "      <th>Herens</th>\n",
       "      <td>89.7</td>\n",
       "      <td>5</td>\n",
       "      <td>2</td>\n",
       "      <td>100.00</td>\n",
       "      <td>18.3</td>\n",
       "    </tr>\n",
       "    <tr>\n",
       "      <th>Glane</th>\n",
       "      <td>67.8</td>\n",
       "      <td>14</td>\n",
       "      <td>8</td>\n",
       "      <td>97.16</td>\n",
       "      <td>24.9</td>\n",
       "    </tr>\n",
       "    <tr>\n",
       "      <th>Neuveville</th>\n",
       "      <td>43.5</td>\n",
       "      <td>17</td>\n",
       "      <td>15</td>\n",
       "      <td>5.16</td>\n",
       "      <td>20.6</td>\n",
       "    </tr>\n",
       "    <tr>\n",
       "      <th>Grandson</th>\n",
       "      <td>34.0</td>\n",
       "      <td>17</td>\n",
       "      <td>8</td>\n",
       "      <td>3.30</td>\n",
       "      <td>20.0</td>\n",
       "    </tr>\n",
       "    <tr>\n",
       "      <th>Vevey</th>\n",
       "      <td>26.8</td>\n",
       "      <td>25</td>\n",
       "      <td>19</td>\n",
       "      <td>18.46</td>\n",
       "      <td>20.9</td>\n",
       "    </tr>\n",
       "    <tr>\n",
       "      <th>Martigwy</th>\n",
       "      <td>78.2</td>\n",
       "      <td>12</td>\n",
       "      <td>6</td>\n",
       "      <td>98.96</td>\n",
       "      <td>19.4</td>\n",
       "    </tr>\n",
       "    <tr>\n",
       "      <th>Avenches</th>\n",
       "      <td>60.7</td>\n",
       "      <td>19</td>\n",
       "      <td>12</td>\n",
       "      <td>4.43</td>\n",
       "      <td>22.7</td>\n",
       "    </tr>\n",
       "  </tbody>\n",
       "</table>\n",
       "</div>"
      ],
      "text/plain": [
       "              Agriculture  Examination  Education  Catholic  Infant.Mortality\n",
       "Rolle                60.8           16         10      7.72              16.3\n",
       "Lavaux               73.0           19          9      2.84              20.0\n",
       "Nyone                50.9           22         12     15.14              16.7\n",
       "Conthey              85.9            3          2     99.71              15.1\n",
       "Yverdon              49.5           15          8      6.10              22.5\n",
       "Oron                 71.2           12          1      2.40              21.0\n",
       "Cossonay             69.3           22          5      2.82              18.7\n",
       "St Maurice           75.9            9          9     99.06              17.8\n",
       "Franches-Mnt         39.7            5          5     93.40              20.2\n",
       "Orbe                 54.1           20          6      4.20              15.3\n",
       "Sarine               45.2           16         13     91.38              24.4\n",
       "La Chauxdfnd          7.7           29         11     13.79              20.5\n",
       "Neuchatel            17.6           35         32     16.92              23.0\n",
       "Monthey              64.9            7          3     98.22              20.2\n",
       "Broye                70.2           16          7     92.85              23.6\n",
       "Paysd'enhaut         63.5            6          3      2.56              18.0\n",
       "Le Locle             16.7           22         13     11.22              18.9\n",
       "Sion                 63.1           13         13     96.83              18.1\n",
       "Herens               89.7            5          2    100.00              18.3\n",
       "Glane                67.8           14          8     97.16              24.9\n",
       "Neuveville           43.5           17         15      5.16              20.6\n",
       "Grandson             34.0           17          8      3.30              20.0\n",
       "Vevey                26.8           25         19     18.46              20.9\n",
       "Martigwy             78.2           12          6     98.96              19.4\n",
       "Avenches             60.7           19         12      4.43              22.7"
      ]
     },
     "execution_count": 48,
     "metadata": {},
     "output_type": "execute_result"
    }
   ],
   "source": [
    "X_train"
   ]
  },
  {
   "cell_type": "code",
   "execution_count": 49,
   "id": "027abf85",
   "metadata": {},
   "outputs": [
    {
     "data": {
      "text/plain": [
       "Rolle           60.5\n",
       "Lavaux          65.1\n",
       "Nyone           56.6\n",
       "Conthey         75.5\n",
       "Yverdon         65.4\n",
       "Oron            72.5\n",
       "Cossonay        61.7\n",
       "St Maurice      65.0\n",
       "Franches-Mnt    92.5\n",
       "Orbe            57.4\n",
       "Sarine          82.9\n",
       "La Chauxdfnd    65.7\n",
       "Neuchatel       64.4\n",
       "Monthey         79.4\n",
       "Broye           83.8\n",
       "Paysd'enhaut    72.0\n",
       "Le Locle        72.7\n",
       "Sion            79.3\n",
       "Herens          77.3\n",
       "Glane           92.4\n",
       "Neuveville      76.9\n",
       "Grandson        71.7\n",
       "Vevey           58.3\n",
       "Martigwy        70.5\n",
       "Avenches        68.9\n",
       "Name: Fertility, dtype: float64"
      ]
     },
     "execution_count": 49,
     "metadata": {},
     "output_type": "execute_result"
    }
   ],
   "source": [
    "y_train"
   ]
  },
  {
   "cell_type": "code",
   "execution_count": 50,
   "id": "abfd44a1",
   "metadata": {},
   "outputs": [
    {
     "data": {
      "text/plain": [
       "[]"
      ]
     },
     "execution_count": 50,
     "metadata": {},
     "output_type": "execute_result"
    }
   ],
   "source": [
    "obj_cols = fe.get_object_cols(X_train)\n",
    "obj_cols"
   ]
  },
  {
   "cell_type": "code",
   "execution_count": 51,
   "id": "3b907941",
   "metadata": {},
   "outputs": [
    {
     "data": {
      "text/plain": [
       "['Agriculture', 'Examination', 'Education', 'Catholic', 'Infant.Mortality']"
      ]
     },
     "execution_count": 51,
     "metadata": {},
     "output_type": "execute_result"
    }
   ],
   "source": [
    "num_cols = fe.get_numeric_X_cols(X_train, obj_cols)\n",
    "num_cols"
   ]
  },
  {
   "cell_type": "code",
   "execution_count": 52,
   "id": "a47db9f1",
   "metadata": {},
   "outputs": [],
   "source": [
    "X_train_scaled, X_validate_scaled, X_test_scaled = fe.min_max_scale(X_train, X_validate, X_test, num_cols)"
   ]
  },
  {
   "cell_type": "code",
   "execution_count": 53,
   "id": "ce397b2a",
   "metadata": {},
   "outputs": [
    {
     "data": {
      "text/html": [
       "<div>\n",
       "<style scoped>\n",
       "    .dataframe tbody tr th:only-of-type {\n",
       "        vertical-align: middle;\n",
       "    }\n",
       "\n",
       "    .dataframe tbody tr th {\n",
       "        vertical-align: top;\n",
       "    }\n",
       "\n",
       "    .dataframe thead th {\n",
       "        text-align: right;\n",
       "    }\n",
       "</style>\n",
       "<table border=\"1\" class=\"dataframe\">\n",
       "  <thead>\n",
       "    <tr style=\"text-align: right;\">\n",
       "      <th></th>\n",
       "      <th>Agriculture</th>\n",
       "      <th>Examination</th>\n",
       "      <th>Education</th>\n",
       "      <th>Catholic</th>\n",
       "      <th>Infant.Mortality</th>\n",
       "    </tr>\n",
       "  </thead>\n",
       "  <tbody>\n",
       "    <tr>\n",
       "      <th>Rolle</th>\n",
       "      <td>0.647561</td>\n",
       "      <td>0.40625</td>\n",
       "      <td>0.290323</td>\n",
       "      <td>0.054508</td>\n",
       "      <td>0.122449</td>\n",
       "    </tr>\n",
       "    <tr>\n",
       "      <th>Lavaux</th>\n",
       "      <td>0.796341</td>\n",
       "      <td>0.50000</td>\n",
       "      <td>0.258065</td>\n",
       "      <td>0.004508</td>\n",
       "      <td>0.500000</td>\n",
       "    </tr>\n",
       "    <tr>\n",
       "      <th>Nyone</th>\n",
       "      <td>0.526829</td>\n",
       "      <td>0.59375</td>\n",
       "      <td>0.354839</td>\n",
       "      <td>0.130533</td>\n",
       "      <td>0.163265</td>\n",
       "    </tr>\n",
       "    <tr>\n",
       "      <th>Conthey</th>\n",
       "      <td>0.953659</td>\n",
       "      <td>0.00000</td>\n",
       "      <td>0.032258</td>\n",
       "      <td>0.997029</td>\n",
       "      <td>0.000000</td>\n",
       "    </tr>\n",
       "    <tr>\n",
       "      <th>Yverdon</th>\n",
       "      <td>0.509756</td>\n",
       "      <td>0.37500</td>\n",
       "      <td>0.225806</td>\n",
       "      <td>0.037910</td>\n",
       "      <td>0.755102</td>\n",
       "    </tr>\n",
       "    <tr>\n",
       "      <th>Oron</th>\n",
       "      <td>0.774390</td>\n",
       "      <td>0.28125</td>\n",
       "      <td>0.000000</td>\n",
       "      <td>0.000000</td>\n",
       "      <td>0.602041</td>\n",
       "    </tr>\n",
       "    <tr>\n",
       "      <th>Cossonay</th>\n",
       "      <td>0.751220</td>\n",
       "      <td>0.59375</td>\n",
       "      <td>0.129032</td>\n",
       "      <td>0.004303</td>\n",
       "      <td>0.367347</td>\n",
       "    </tr>\n",
       "    <tr>\n",
       "      <th>St Maurice</th>\n",
       "      <td>0.831707</td>\n",
       "      <td>0.18750</td>\n",
       "      <td>0.258065</td>\n",
       "      <td>0.990369</td>\n",
       "      <td>0.275510</td>\n",
       "    </tr>\n",
       "    <tr>\n",
       "      <th>Franches-Mnt</th>\n",
       "      <td>0.390244</td>\n",
       "      <td>0.06250</td>\n",
       "      <td>0.129032</td>\n",
       "      <td>0.932377</td>\n",
       "      <td>0.520408</td>\n",
       "    </tr>\n",
       "    <tr>\n",
       "      <th>Orbe</th>\n",
       "      <td>0.565854</td>\n",
       "      <td>0.53125</td>\n",
       "      <td>0.161290</td>\n",
       "      <td>0.018443</td>\n",
       "      <td>0.020408</td>\n",
       "    </tr>\n",
       "    <tr>\n",
       "      <th>Sarine</th>\n",
       "      <td>0.457317</td>\n",
       "      <td>0.40625</td>\n",
       "      <td>0.387097</td>\n",
       "      <td>0.911680</td>\n",
       "      <td>0.948980</td>\n",
       "    </tr>\n",
       "    <tr>\n",
       "      <th>La Chauxdfnd</th>\n",
       "      <td>0.000000</td>\n",
       "      <td>0.81250</td>\n",
       "      <td>0.322581</td>\n",
       "      <td>0.116701</td>\n",
       "      <td>0.551020</td>\n",
       "    </tr>\n",
       "    <tr>\n",
       "      <th>Neuchatel</th>\n",
       "      <td>0.120732</td>\n",
       "      <td>1.00000</td>\n",
       "      <td>1.000000</td>\n",
       "      <td>0.148770</td>\n",
       "      <td>0.806122</td>\n",
       "    </tr>\n",
       "    <tr>\n",
       "      <th>Monthey</th>\n",
       "      <td>0.697561</td>\n",
       "      <td>0.12500</td>\n",
       "      <td>0.064516</td>\n",
       "      <td>0.981762</td>\n",
       "      <td>0.520408</td>\n",
       "    </tr>\n",
       "    <tr>\n",
       "      <th>Broye</th>\n",
       "      <td>0.762195</td>\n",
       "      <td>0.40625</td>\n",
       "      <td>0.193548</td>\n",
       "      <td>0.926742</td>\n",
       "      <td>0.867347</td>\n",
       "    </tr>\n",
       "    <tr>\n",
       "      <th>Paysd'enhaut</th>\n",
       "      <td>0.680488</td>\n",
       "      <td>0.09375</td>\n",
       "      <td>0.064516</td>\n",
       "      <td>0.001639</td>\n",
       "      <td>0.295918</td>\n",
       "    </tr>\n",
       "    <tr>\n",
       "      <th>Le Locle</th>\n",
       "      <td>0.109756</td>\n",
       "      <td>0.59375</td>\n",
       "      <td>0.387097</td>\n",
       "      <td>0.090369</td>\n",
       "      <td>0.387755</td>\n",
       "    </tr>\n",
       "    <tr>\n",
       "      <th>Sion</th>\n",
       "      <td>0.675610</td>\n",
       "      <td>0.31250</td>\n",
       "      <td>0.387097</td>\n",
       "      <td>0.967520</td>\n",
       "      <td>0.306122</td>\n",
       "    </tr>\n",
       "    <tr>\n",
       "      <th>Herens</th>\n",
       "      <td>1.000000</td>\n",
       "      <td>0.06250</td>\n",
       "      <td>0.032258</td>\n",
       "      <td>1.000000</td>\n",
       "      <td>0.326531</td>\n",
       "    </tr>\n",
       "    <tr>\n",
       "      <th>Glane</th>\n",
       "      <td>0.732927</td>\n",
       "      <td>0.34375</td>\n",
       "      <td>0.225806</td>\n",
       "      <td>0.970902</td>\n",
       "      <td>1.000000</td>\n",
       "    </tr>\n",
       "    <tr>\n",
       "      <th>Neuveville</th>\n",
       "      <td>0.436585</td>\n",
       "      <td>0.43750</td>\n",
       "      <td>0.451613</td>\n",
       "      <td>0.028279</td>\n",
       "      <td>0.561224</td>\n",
       "    </tr>\n",
       "    <tr>\n",
       "      <th>Grandson</th>\n",
       "      <td>0.320732</td>\n",
       "      <td>0.43750</td>\n",
       "      <td>0.225806</td>\n",
       "      <td>0.009221</td>\n",
       "      <td>0.500000</td>\n",
       "    </tr>\n",
       "    <tr>\n",
       "      <th>Vevey</th>\n",
       "      <td>0.232927</td>\n",
       "      <td>0.68750</td>\n",
       "      <td>0.580645</td>\n",
       "      <td>0.164549</td>\n",
       "      <td>0.591837</td>\n",
       "    </tr>\n",
       "    <tr>\n",
       "      <th>Martigwy</th>\n",
       "      <td>0.859756</td>\n",
       "      <td>0.28125</td>\n",
       "      <td>0.161290</td>\n",
       "      <td>0.989344</td>\n",
       "      <td>0.438776</td>\n",
       "    </tr>\n",
       "    <tr>\n",
       "      <th>Avenches</th>\n",
       "      <td>0.646341</td>\n",
       "      <td>0.50000</td>\n",
       "      <td>0.354839</td>\n",
       "      <td>0.020799</td>\n",
       "      <td>0.775510</td>\n",
       "    </tr>\n",
       "  </tbody>\n",
       "</table>\n",
       "</div>"
      ],
      "text/plain": [
       "              Agriculture  Examination  Education  Catholic  Infant.Mortality\n",
       "Rolle            0.647561      0.40625   0.290323  0.054508          0.122449\n",
       "Lavaux           0.796341      0.50000   0.258065  0.004508          0.500000\n",
       "Nyone            0.526829      0.59375   0.354839  0.130533          0.163265\n",
       "Conthey          0.953659      0.00000   0.032258  0.997029          0.000000\n",
       "Yverdon          0.509756      0.37500   0.225806  0.037910          0.755102\n",
       "Oron             0.774390      0.28125   0.000000  0.000000          0.602041\n",
       "Cossonay         0.751220      0.59375   0.129032  0.004303          0.367347\n",
       "St Maurice       0.831707      0.18750   0.258065  0.990369          0.275510\n",
       "Franches-Mnt     0.390244      0.06250   0.129032  0.932377          0.520408\n",
       "Orbe             0.565854      0.53125   0.161290  0.018443          0.020408\n",
       "Sarine           0.457317      0.40625   0.387097  0.911680          0.948980\n",
       "La Chauxdfnd     0.000000      0.81250   0.322581  0.116701          0.551020\n",
       "Neuchatel        0.120732      1.00000   1.000000  0.148770          0.806122\n",
       "Monthey          0.697561      0.12500   0.064516  0.981762          0.520408\n",
       "Broye            0.762195      0.40625   0.193548  0.926742          0.867347\n",
       "Paysd'enhaut     0.680488      0.09375   0.064516  0.001639          0.295918\n",
       "Le Locle         0.109756      0.59375   0.387097  0.090369          0.387755\n",
       "Sion             0.675610      0.31250   0.387097  0.967520          0.306122\n",
       "Herens           1.000000      0.06250   0.032258  1.000000          0.326531\n",
       "Glane            0.732927      0.34375   0.225806  0.970902          1.000000\n",
       "Neuveville       0.436585      0.43750   0.451613  0.028279          0.561224\n",
       "Grandson         0.320732      0.43750   0.225806  0.009221          0.500000\n",
       "Vevey            0.232927      0.68750   0.580645  0.164549          0.591837\n",
       "Martigwy         0.859756      0.28125   0.161290  0.989344          0.438776\n",
       "Avenches         0.646341      0.50000   0.354839  0.020799          0.775510"
      ]
     },
     "execution_count": 53,
     "metadata": {},
     "output_type": "execute_result"
    }
   ],
   "source": [
    "X_train_scaled"
   ]
  },
  {
   "cell_type": "code",
   "execution_count": 54,
   "id": "5fddf1a0",
   "metadata": {},
   "outputs": [
    {
     "data": {
      "text/plain": [
       "['Examination', 'Education', 'Catholic']"
      ]
     },
     "execution_count": 54,
     "metadata": {},
     "output_type": "execute_result"
    }
   ],
   "source": [
    "fe.select_kbest(swiss_df.drop(columns=['Fertility']), swiss_df.Fertility, top=3)\n"
   ]
  },
  {
   "cell_type": "code",
   "execution_count": 55,
   "id": "af16b59d",
   "metadata": {},
   "outputs": [
    {
     "name": "stdout",
     "output_type": "stream",
     "text": [
      "3 selected features\n",
      "['Examination', 'Education', 'Infant.Mortality']\n"
     ]
    }
   ],
   "source": [
    "fe.rfe(swiss_df.drop(columns=['Fertility']), swiss_df.Fertility,3)"
   ]
  },
  {
   "cell_type": "code",
   "execution_count": 56,
   "id": "154db424",
   "metadata": {},
   "outputs": [
    {
     "name": "stdout",
     "output_type": "stream",
     "text": [
      "3 selected features\n",
      "['Examination', 'Education', 'Infant.Mortality']\n"
     ]
    }
   ],
   "source": [
    "features = fe.rfe(swiss_df.drop(columns=['Fertility']), swiss_df.Fertility,3)"
   ]
  },
  {
   "cell_type": "code",
   "execution_count": 57,
   "id": "6e48c2a8",
   "metadata": {},
   "outputs": [
    {
     "data": {
      "text/plain": [
       "Moudon         65.0\n",
       "Echallens      68.3\n",
       "Moutier        85.8\n",
       "Morges         65.5\n",
       "Sierre         92.2\n",
       "Boudry         70.4\n",
       "Payerne        74.2\n",
       "Lausanne       55.7\n",
       "Rive Gauche    42.8\n",
       "Courtelary     80.2\n",
       "Rive Droite    44.7\n",
       "Aubonne        66.9\n",
       "Name: Fertility, dtype: float64"
      ]
     },
     "execution_count": 57,
     "metadata": {},
     "output_type": "execute_result"
    }
   ],
   "source": [
    "y_validate"
   ]
  },
  {
   "cell_type": "code",
   "execution_count": null,
   "id": "d8e9de83",
   "metadata": {},
   "outputs": [],
   "source": []
  }
 ],
 "metadata": {
  "kernelspec": {
   "display_name": "Python 3",
   "language": "python",
   "name": "python3"
  },
  "language_info": {
   "codemirror_mode": {
    "name": "ipython",
    "version": 3
   },
   "file_extension": ".py",
   "mimetype": "text/x-python",
   "name": "python",
   "nbconvert_exporter": "python",
   "pygments_lexer": "ipython3",
   "version": "3.8.8"
  }
 },
 "nbformat": 4,
 "nbformat_minor": 5
}
