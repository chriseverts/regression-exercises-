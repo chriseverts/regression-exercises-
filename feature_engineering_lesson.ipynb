{
 "cells": [
  {
   "cell_type": "markdown",
   "id": "7dba2493-6545-43d1-85c0-bd71aa194b43",
   "metadata": {},
   "source": [
    "# Feature Engineering\n",
    "\n",
    "In this lesson we discuss some methods for *automated* feature engineering, specifically feature selection.\n",
    "\n",
    "While these methods can produce useful results, they are but a single piece of of the feature engineering puzzle."
   ]
  },
  {
   "cell_type": "markdown",
   "id": "6f0c87db-5c04-4b35-ae9d-6d754f076f83",
   "metadata": {},
   "source": [
    "## Setup"
   ]
  },
  {
   "cell_type": "code",
   "execution_count": 39,
   "id": "5b58cab4-ca6d-4590-8590-42b728149ed2",
   "metadata": {},
   "outputs": [],
   "source": [
    "#first begin with imports\n",
    "import warnings\n",
    "warnings.filterwarnings(\"ignore\")\n",
    "import env\n",
    "import numpy as np\n",
    "import pandas as pd\n",
    "import seaborn as sns\n",
    "import matplotlib.pyplot as plt\n",
    "from pydataset import data\n",
    "from statsmodels.formula.api import ols\n",
    "import feature as fe\n",
    "\n",
    "from scipy import stats\n",
    "from sklearn.metrics import mean_squared_error, r2_score, explained_variance_score\n",
    "\n",
    "from sklearn.linear_model import LinearRegression\n",
    "from sklearn.feature_selection import f_regression, RFE\n",
    "from sklearn.metrics import mean_squared_error\n",
    "from math import sqrt\n",
    "import matplotlib.pyplot as plt\n",
    "\n",
    "from sklearn.feature_selection import SelectKBest, f_regression\n",
    "from sklearn.model_selection import train_test_split\n",
    "from sklearn.preprocessing import MinMaxScaler\n",
    "\n",
    "\n",
    "import pandas as pd\n",
    "import numpy as np\n",
    "import pydataset\n",
    "\n",
    "from sklearn.feature_selection import SelectKBest, f_regression, RFE\n",
    "from sklearn.linear_model import LinearRegression\n",
    "from sklearn.model_selection import train_test_split\n",
    "from sklearn.preprocessing import StandardScaler\n",
    "\n",
    "tips = pydataset.data('tips')\n",
    "tips['smoker'] = (tips.smoker == 'Yes').astype(int)\n",
    "tips['dinner'] = (tips.time == 'Dinner').astype(int)"
   ]
  },
  {
   "cell_type": "code",
   "execution_count": 51,
   "id": "1a68bb10-3c4c-434b-8814-57f93ea67954",
   "metadata": {},
   "outputs": [],
   "source": [
    "X = tips[['total_bill', 'size', 'smoker', 'dinner']]\n",
    "y = tips.tip\n",
    "\n",
    "X_train, X_test, y_train, y_test = train_test_split(X, y, test_size=.2, random_state=123)\n",
    "scaler = StandardScaler()\n",
    "X_train_scaled = scaler.fit_transform(X_train)\n",
    "X_test_scaled = scaler.transform(X_test)"
   ]
  },
  {
   "cell_type": "markdown",
   "id": "1cec7002-744c-478f-aed3-809c838066be",
   "metadata": {},
   "source": [
    "## Select K Best\n",
    "\n",
    "- uses an f regression test\n",
    "- looks at each feature in isolation\n",
    "- is a model with that feature better than no model at all"
   ]
  },
  {
   "cell_type": "code",
   "execution_count": 52,
   "id": "ed7d21ea-3812-4072-8194-9b3c08df18c9",
   "metadata": {},
   "outputs": [
    {
     "data": {
      "text/plain": [
       "SelectKBest(k=1, score_func=<function f_regression at 0x7fd185e9c550>)"
      ]
     },
     "execution_count": 52,
     "metadata": {},
     "output_type": "execute_result"
    }
   ],
   "source": [
    "kbest = SelectKBest(f_regression, k=1)\n",
    "kbest.fit(X_train_scaled, y_train)"
   ]
  },
  {
   "cell_type": "code",
   "execution_count": 53,
   "id": "175bcb66-1cde-40cb-9ff1-389a79b59d7a",
   "metadata": {},
   "outputs": [
    {
     "data": {
      "text/plain": [
       "array([ True, False, False, False])"
      ]
     },
     "execution_count": 53,
     "metadata": {},
     "output_type": "execute_result"
    }
   ],
   "source": [
    "kbest.get_support()"
   ]
  },
  {
   "cell_type": "code",
   "execution_count": 54,
   "id": "9e1200be",
   "metadata": {},
   "outputs": [
    {
     "data": {
      "text/plain": [
       "Index(['total_bill'], dtype='object')"
      ]
     },
     "execution_count": 54,
     "metadata": {},
     "output_type": "execute_result"
    }
   ],
   "source": [
    "X_train.columns[kbest.get_support()]"
   ]
  },
  {
   "cell_type": "code",
   "execution_count": 55,
   "id": "791bc302-d1da-47fc-8418-249c6ea92518",
   "metadata": {},
   "outputs": [
    {
     "data": {
      "text/plain": [
       "(195, 1)"
      ]
     },
     "execution_count": 55,
     "metadata": {},
     "output_type": "execute_result"
    }
   ],
   "source": [
    "X_kbest = kbest.transform(X_train_scaled)\n",
    "X_kbest.shape"
   ]
  },
  {
   "cell_type": "markdown",
   "id": "797d03a8-c8b6-47d0-8535-0d517c5a8230",
   "metadata": {},
   "source": [
    "<div style=\"border: 1px solid black; border-radius: 3px; background: palegreen; padding: .5em 1em;\">\n",
    "    <p style=\"font-size: 1.3em; font-weight: bold\">Mini Exercise</p>\n",
    "    <ol>\n",
    "        <li>Use <code>pydataset</code> to load the <code>swiss</code> dataset.</li>\n",
    "        <li>Split the swiss dataset into X and y, and train and test. The goal is to predict <code>Fertility</code>.</li>\n",
    "        <li>Use <code>SelectKBest</code> to find the top 3 features that predict fertility in the swiss data set.</li>\n",
    "    </ol>\n",
    "</div>"
   ]
  },
  {
   "cell_type": "code",
   "execution_count": 66,
   "id": "8e00e4b2",
   "metadata": {},
   "outputs": [],
   "source": [
    "swiss_df = data('swiss')"
   ]
  },
  {
   "cell_type": "code",
   "execution_count": 67,
   "id": "71bf1766",
   "metadata": {},
   "outputs": [
    {
     "data": {
      "text/html": [
       "<div>\n",
       "<style scoped>\n",
       "    .dataframe tbody tr th:only-of-type {\n",
       "        vertical-align: middle;\n",
       "    }\n",
       "\n",
       "    .dataframe tbody tr th {\n",
       "        vertical-align: top;\n",
       "    }\n",
       "\n",
       "    .dataframe thead th {\n",
       "        text-align: right;\n",
       "    }\n",
       "</style>\n",
       "<table border=\"1\" class=\"dataframe\">\n",
       "  <thead>\n",
       "    <tr style=\"text-align: right;\">\n",
       "      <th></th>\n",
       "      <th>Fertility</th>\n",
       "      <th>Agriculture</th>\n",
       "      <th>Examination</th>\n",
       "      <th>Education</th>\n",
       "      <th>Catholic</th>\n",
       "      <th>Infant.Mortality</th>\n",
       "    </tr>\n",
       "  </thead>\n",
       "  <tbody>\n",
       "    <tr>\n",
       "      <th>Courtelary</th>\n",
       "      <td>80.2</td>\n",
       "      <td>17.0</td>\n",
       "      <td>15</td>\n",
       "      <td>12</td>\n",
       "      <td>9.96</td>\n",
       "      <td>22.2</td>\n",
       "    </tr>\n",
       "    <tr>\n",
       "      <th>Delemont</th>\n",
       "      <td>83.1</td>\n",
       "      <td>45.1</td>\n",
       "      <td>6</td>\n",
       "      <td>9</td>\n",
       "      <td>84.84</td>\n",
       "      <td>22.2</td>\n",
       "    </tr>\n",
       "    <tr>\n",
       "      <th>Franches-Mnt</th>\n",
       "      <td>92.5</td>\n",
       "      <td>39.7</td>\n",
       "      <td>5</td>\n",
       "      <td>5</td>\n",
       "      <td>93.40</td>\n",
       "      <td>20.2</td>\n",
       "    </tr>\n",
       "    <tr>\n",
       "      <th>Moutier</th>\n",
       "      <td>85.8</td>\n",
       "      <td>36.5</td>\n",
       "      <td>12</td>\n",
       "      <td>7</td>\n",
       "      <td>33.77</td>\n",
       "      <td>20.3</td>\n",
       "    </tr>\n",
       "    <tr>\n",
       "      <th>Neuveville</th>\n",
       "      <td>76.9</td>\n",
       "      <td>43.5</td>\n",
       "      <td>17</td>\n",
       "      <td>15</td>\n",
       "      <td>5.16</td>\n",
       "      <td>20.6</td>\n",
       "    </tr>\n",
       "  </tbody>\n",
       "</table>\n",
       "</div>"
      ],
      "text/plain": [
       "              Fertility  Agriculture  Examination  Education  Catholic  \\\n",
       "Courtelary         80.2         17.0           15         12      9.96   \n",
       "Delemont           83.1         45.1            6          9     84.84   \n",
       "Franches-Mnt       92.5         39.7            5          5     93.40   \n",
       "Moutier            85.8         36.5           12          7     33.77   \n",
       "Neuveville         76.9         43.5           17         15      5.16   \n",
       "\n",
       "              Infant.Mortality  \n",
       "Courtelary                22.2  \n",
       "Delemont                  22.2  \n",
       "Franches-Mnt              20.2  \n",
       "Moutier                   20.3  \n",
       "Neuveville                20.6  "
      ]
     },
     "execution_count": 67,
     "metadata": {},
     "output_type": "execute_result"
    }
   ],
   "source": [
    "swiss_df.head()"
   ]
  },
  {
   "cell_type": "code",
   "execution_count": 68,
   "id": "864fdf6a",
   "metadata": {},
   "outputs": [
    {
     "data": {
      "text/html": [
       "<div>\n",
       "<style scoped>\n",
       "    .dataframe tbody tr th:only-of-type {\n",
       "        vertical-align: middle;\n",
       "    }\n",
       "\n",
       "    .dataframe tbody tr th {\n",
       "        vertical-align: top;\n",
       "    }\n",
       "\n",
       "    .dataframe thead th {\n",
       "        text-align: right;\n",
       "    }\n",
       "</style>\n",
       "<table border=\"1\" class=\"dataframe\">\n",
       "  <thead>\n",
       "    <tr style=\"text-align: right;\">\n",
       "      <th></th>\n",
       "      <th>Agriculture</th>\n",
       "      <th>Examination</th>\n",
       "      <th>Education</th>\n",
       "      <th>Catholic</th>\n",
       "      <th>Infant.Mortality</th>\n",
       "    </tr>\n",
       "  </thead>\n",
       "  <tbody>\n",
       "    <tr>\n",
       "      <th>Rolle</th>\n",
       "      <td>60.8</td>\n",
       "      <td>16</td>\n",
       "      <td>10</td>\n",
       "      <td>7.72</td>\n",
       "      <td>16.3</td>\n",
       "    </tr>\n",
       "    <tr>\n",
       "      <th>Lavaux</th>\n",
       "      <td>73.0</td>\n",
       "      <td>19</td>\n",
       "      <td>9</td>\n",
       "      <td>2.84</td>\n",
       "      <td>20.0</td>\n",
       "    </tr>\n",
       "    <tr>\n",
       "      <th>Nyone</th>\n",
       "      <td>50.9</td>\n",
       "      <td>22</td>\n",
       "      <td>12</td>\n",
       "      <td>15.14</td>\n",
       "      <td>16.7</td>\n",
       "    </tr>\n",
       "    <tr>\n",
       "      <th>Conthey</th>\n",
       "      <td>85.9</td>\n",
       "      <td>3</td>\n",
       "      <td>2</td>\n",
       "      <td>99.71</td>\n",
       "      <td>15.1</td>\n",
       "    </tr>\n",
       "    <tr>\n",
       "      <th>Yverdon</th>\n",
       "      <td>49.5</td>\n",
       "      <td>15</td>\n",
       "      <td>8</td>\n",
       "      <td>6.10</td>\n",
       "      <td>22.5</td>\n",
       "    </tr>\n",
       "    <tr>\n",
       "      <th>Oron</th>\n",
       "      <td>71.2</td>\n",
       "      <td>12</td>\n",
       "      <td>1</td>\n",
       "      <td>2.40</td>\n",
       "      <td>21.0</td>\n",
       "    </tr>\n",
       "    <tr>\n",
       "      <th>Cossonay</th>\n",
       "      <td>69.3</td>\n",
       "      <td>22</td>\n",
       "      <td>5</td>\n",
       "      <td>2.82</td>\n",
       "      <td>18.7</td>\n",
       "    </tr>\n",
       "    <tr>\n",
       "      <th>St Maurice</th>\n",
       "      <td>75.9</td>\n",
       "      <td>9</td>\n",
       "      <td>9</td>\n",
       "      <td>99.06</td>\n",
       "      <td>17.8</td>\n",
       "    </tr>\n",
       "    <tr>\n",
       "      <th>Franches-Mnt</th>\n",
       "      <td>39.7</td>\n",
       "      <td>5</td>\n",
       "      <td>5</td>\n",
       "      <td>93.40</td>\n",
       "      <td>20.2</td>\n",
       "    </tr>\n",
       "    <tr>\n",
       "      <th>Orbe</th>\n",
       "      <td>54.1</td>\n",
       "      <td>20</td>\n",
       "      <td>6</td>\n",
       "      <td>4.20</td>\n",
       "      <td>15.3</td>\n",
       "    </tr>\n",
       "    <tr>\n",
       "      <th>Sarine</th>\n",
       "      <td>45.2</td>\n",
       "      <td>16</td>\n",
       "      <td>13</td>\n",
       "      <td>91.38</td>\n",
       "      <td>24.4</td>\n",
       "    </tr>\n",
       "    <tr>\n",
       "      <th>La Chauxdfnd</th>\n",
       "      <td>7.7</td>\n",
       "      <td>29</td>\n",
       "      <td>11</td>\n",
       "      <td>13.79</td>\n",
       "      <td>20.5</td>\n",
       "    </tr>\n",
       "    <tr>\n",
       "      <th>Neuchatel</th>\n",
       "      <td>17.6</td>\n",
       "      <td>35</td>\n",
       "      <td>32</td>\n",
       "      <td>16.92</td>\n",
       "      <td>23.0</td>\n",
       "    </tr>\n",
       "    <tr>\n",
       "      <th>Monthey</th>\n",
       "      <td>64.9</td>\n",
       "      <td>7</td>\n",
       "      <td>3</td>\n",
       "      <td>98.22</td>\n",
       "      <td>20.2</td>\n",
       "    </tr>\n",
       "    <tr>\n",
       "      <th>Broye</th>\n",
       "      <td>70.2</td>\n",
       "      <td>16</td>\n",
       "      <td>7</td>\n",
       "      <td>92.85</td>\n",
       "      <td>23.6</td>\n",
       "    </tr>\n",
       "    <tr>\n",
       "      <th>Paysd'enhaut</th>\n",
       "      <td>63.5</td>\n",
       "      <td>6</td>\n",
       "      <td>3</td>\n",
       "      <td>2.56</td>\n",
       "      <td>18.0</td>\n",
       "    </tr>\n",
       "    <tr>\n",
       "      <th>Le Locle</th>\n",
       "      <td>16.7</td>\n",
       "      <td>22</td>\n",
       "      <td>13</td>\n",
       "      <td>11.22</td>\n",
       "      <td>18.9</td>\n",
       "    </tr>\n",
       "    <tr>\n",
       "      <th>Sion</th>\n",
       "      <td>63.1</td>\n",
       "      <td>13</td>\n",
       "      <td>13</td>\n",
       "      <td>96.83</td>\n",
       "      <td>18.1</td>\n",
       "    </tr>\n",
       "    <tr>\n",
       "      <th>Herens</th>\n",
       "      <td>89.7</td>\n",
       "      <td>5</td>\n",
       "      <td>2</td>\n",
       "      <td>100.00</td>\n",
       "      <td>18.3</td>\n",
       "    </tr>\n",
       "    <tr>\n",
       "      <th>Glane</th>\n",
       "      <td>67.8</td>\n",
       "      <td>14</td>\n",
       "      <td>8</td>\n",
       "      <td>97.16</td>\n",
       "      <td>24.9</td>\n",
       "    </tr>\n",
       "    <tr>\n",
       "      <th>Neuveville</th>\n",
       "      <td>43.5</td>\n",
       "      <td>17</td>\n",
       "      <td>15</td>\n",
       "      <td>5.16</td>\n",
       "      <td>20.6</td>\n",
       "    </tr>\n",
       "    <tr>\n",
       "      <th>Grandson</th>\n",
       "      <td>34.0</td>\n",
       "      <td>17</td>\n",
       "      <td>8</td>\n",
       "      <td>3.30</td>\n",
       "      <td>20.0</td>\n",
       "    </tr>\n",
       "    <tr>\n",
       "      <th>Vevey</th>\n",
       "      <td>26.8</td>\n",
       "      <td>25</td>\n",
       "      <td>19</td>\n",
       "      <td>18.46</td>\n",
       "      <td>20.9</td>\n",
       "    </tr>\n",
       "    <tr>\n",
       "      <th>Martigwy</th>\n",
       "      <td>78.2</td>\n",
       "      <td>12</td>\n",
       "      <td>6</td>\n",
       "      <td>98.96</td>\n",
       "      <td>19.4</td>\n",
       "    </tr>\n",
       "    <tr>\n",
       "      <th>Avenches</th>\n",
       "      <td>60.7</td>\n",
       "      <td>19</td>\n",
       "      <td>12</td>\n",
       "      <td>4.43</td>\n",
       "      <td>22.7</td>\n",
       "    </tr>\n",
       "  </tbody>\n",
       "</table>\n",
       "</div>"
      ],
      "text/plain": [
       "              Agriculture  Examination  Education  Catholic  Infant.Mortality\n",
       "Rolle                60.8           16         10      7.72              16.3\n",
       "Lavaux               73.0           19          9      2.84              20.0\n",
       "Nyone                50.9           22         12     15.14              16.7\n",
       "Conthey              85.9            3          2     99.71              15.1\n",
       "Yverdon              49.5           15          8      6.10              22.5\n",
       "Oron                 71.2           12          1      2.40              21.0\n",
       "Cossonay             69.3           22          5      2.82              18.7\n",
       "St Maurice           75.9            9          9     99.06              17.8\n",
       "Franches-Mnt         39.7            5          5     93.40              20.2\n",
       "Orbe                 54.1           20          6      4.20              15.3\n",
       "Sarine               45.2           16         13     91.38              24.4\n",
       "La Chauxdfnd          7.7           29         11     13.79              20.5\n",
       "Neuchatel            17.6           35         32     16.92              23.0\n",
       "Monthey              64.9            7          3     98.22              20.2\n",
       "Broye                70.2           16          7     92.85              23.6\n",
       "Paysd'enhaut         63.5            6          3      2.56              18.0\n",
       "Le Locle             16.7           22         13     11.22              18.9\n",
       "Sion                 63.1           13         13     96.83              18.1\n",
       "Herens               89.7            5          2    100.00              18.3\n",
       "Glane                67.8           14          8     97.16              24.9\n",
       "Neuveville           43.5           17         15      5.16              20.6\n",
       "Grandson             34.0           17          8      3.30              20.0\n",
       "Vevey                26.8           25         19     18.46              20.9\n",
       "Martigwy             78.2           12          6     98.96              19.4\n",
       "Avenches             60.7           19         12      4.43              22.7"
      ]
     },
     "execution_count": 68,
     "metadata": {},
     "output_type": "execute_result"
    }
   ],
   "source": [
    "X_train"
   ]
  },
  {
   "cell_type": "code",
   "execution_count": 69,
   "id": "c0aad52f",
   "metadata": {},
   "outputs": [
    {
     "data": {
      "text/plain": [
       "Rolle           60.5\n",
       "Lavaux          65.1\n",
       "Nyone           56.6\n",
       "Conthey         75.5\n",
       "Yverdon         65.4\n",
       "Oron            72.5\n",
       "Cossonay        61.7\n",
       "St Maurice      65.0\n",
       "Franches-Mnt    92.5\n",
       "Orbe            57.4\n",
       "Sarine          82.9\n",
       "La Chauxdfnd    65.7\n",
       "Neuchatel       64.4\n",
       "Monthey         79.4\n",
       "Broye           83.8\n",
       "Paysd'enhaut    72.0\n",
       "Le Locle        72.7\n",
       "Sion            79.3\n",
       "Herens          77.3\n",
       "Glane           92.4\n",
       "Neuveville      76.9\n",
       "Grandson        71.7\n",
       "Vevey           58.3\n",
       "Martigwy        70.5\n",
       "Avenches        68.9\n",
       "Name: Fertility, dtype: float64"
      ]
     },
     "execution_count": 69,
     "metadata": {},
     "output_type": "execute_result"
    }
   ],
   "source": [
    "y_train"
   ]
  },
  {
   "cell_type": "code",
   "execution_count": 70,
   "id": "8d14a3ec",
   "metadata": {},
   "outputs": [
    {
     "data": {
      "text/plain": [
       "[]"
      ]
     },
     "execution_count": 70,
     "metadata": {},
     "output_type": "execute_result"
    }
   ],
   "source": [
    "obj_cols = fe.get_object_cols(X_train)\n",
    "obj_cols"
   ]
  },
  {
   "cell_type": "code",
   "execution_count": 71,
   "id": "113341a3",
   "metadata": {},
   "outputs": [
    {
     "data": {
      "text/plain": [
       "['Agriculture', 'Examination', 'Education', 'Catholic', 'Infant.Mortality']"
      ]
     },
     "execution_count": 71,
     "metadata": {},
     "output_type": "execute_result"
    }
   ],
   "source": [
    "num_cols = fe.get_numeric_X_cols(X_train, obj_cols)\n",
    "num_cols"
   ]
  },
  {
   "cell_type": "code",
   "execution_count": 72,
   "id": "14c57605",
   "metadata": {},
   "outputs": [],
   "source": [
    "X_train_scaled, X_validate_scaled, X_test_scaled = fe.min_max_scale(X_train, X_validate, X_test, num_cols)"
   ]
  },
  {
   "cell_type": "code",
   "execution_count": 73,
   "id": "62c1832e",
   "metadata": {},
   "outputs": [
    {
     "data": {
      "text/html": [
       "<div>\n",
       "<style scoped>\n",
       "    .dataframe tbody tr th:only-of-type {\n",
       "        vertical-align: middle;\n",
       "    }\n",
       "\n",
       "    .dataframe tbody tr th {\n",
       "        vertical-align: top;\n",
       "    }\n",
       "\n",
       "    .dataframe thead th {\n",
       "        text-align: right;\n",
       "    }\n",
       "</style>\n",
       "<table border=\"1\" class=\"dataframe\">\n",
       "  <thead>\n",
       "    <tr style=\"text-align: right;\">\n",
       "      <th></th>\n",
       "      <th>Agriculture</th>\n",
       "      <th>Examination</th>\n",
       "      <th>Education</th>\n",
       "      <th>Catholic</th>\n",
       "      <th>Infant.Mortality</th>\n",
       "    </tr>\n",
       "  </thead>\n",
       "  <tbody>\n",
       "    <tr>\n",
       "      <th>Rolle</th>\n",
       "      <td>0.647561</td>\n",
       "      <td>0.40625</td>\n",
       "      <td>0.290323</td>\n",
       "      <td>0.054508</td>\n",
       "      <td>0.122449</td>\n",
       "    </tr>\n",
       "    <tr>\n",
       "      <th>Lavaux</th>\n",
       "      <td>0.796341</td>\n",
       "      <td>0.50000</td>\n",
       "      <td>0.258065</td>\n",
       "      <td>0.004508</td>\n",
       "      <td>0.500000</td>\n",
       "    </tr>\n",
       "    <tr>\n",
       "      <th>Nyone</th>\n",
       "      <td>0.526829</td>\n",
       "      <td>0.59375</td>\n",
       "      <td>0.354839</td>\n",
       "      <td>0.130533</td>\n",
       "      <td>0.163265</td>\n",
       "    </tr>\n",
       "    <tr>\n",
       "      <th>Conthey</th>\n",
       "      <td>0.953659</td>\n",
       "      <td>0.00000</td>\n",
       "      <td>0.032258</td>\n",
       "      <td>0.997029</td>\n",
       "      <td>0.000000</td>\n",
       "    </tr>\n",
       "    <tr>\n",
       "      <th>Yverdon</th>\n",
       "      <td>0.509756</td>\n",
       "      <td>0.37500</td>\n",
       "      <td>0.225806</td>\n",
       "      <td>0.037910</td>\n",
       "      <td>0.755102</td>\n",
       "    </tr>\n",
       "    <tr>\n",
       "      <th>Oron</th>\n",
       "      <td>0.774390</td>\n",
       "      <td>0.28125</td>\n",
       "      <td>0.000000</td>\n",
       "      <td>0.000000</td>\n",
       "      <td>0.602041</td>\n",
       "    </tr>\n",
       "    <tr>\n",
       "      <th>Cossonay</th>\n",
       "      <td>0.751220</td>\n",
       "      <td>0.59375</td>\n",
       "      <td>0.129032</td>\n",
       "      <td>0.004303</td>\n",
       "      <td>0.367347</td>\n",
       "    </tr>\n",
       "    <tr>\n",
       "      <th>St Maurice</th>\n",
       "      <td>0.831707</td>\n",
       "      <td>0.18750</td>\n",
       "      <td>0.258065</td>\n",
       "      <td>0.990369</td>\n",
       "      <td>0.275510</td>\n",
       "    </tr>\n",
       "    <tr>\n",
       "      <th>Franches-Mnt</th>\n",
       "      <td>0.390244</td>\n",
       "      <td>0.06250</td>\n",
       "      <td>0.129032</td>\n",
       "      <td>0.932377</td>\n",
       "      <td>0.520408</td>\n",
       "    </tr>\n",
       "    <tr>\n",
       "      <th>Orbe</th>\n",
       "      <td>0.565854</td>\n",
       "      <td>0.53125</td>\n",
       "      <td>0.161290</td>\n",
       "      <td>0.018443</td>\n",
       "      <td>0.020408</td>\n",
       "    </tr>\n",
       "    <tr>\n",
       "      <th>Sarine</th>\n",
       "      <td>0.457317</td>\n",
       "      <td>0.40625</td>\n",
       "      <td>0.387097</td>\n",
       "      <td>0.911680</td>\n",
       "      <td>0.948980</td>\n",
       "    </tr>\n",
       "    <tr>\n",
       "      <th>La Chauxdfnd</th>\n",
       "      <td>0.000000</td>\n",
       "      <td>0.81250</td>\n",
       "      <td>0.322581</td>\n",
       "      <td>0.116701</td>\n",
       "      <td>0.551020</td>\n",
       "    </tr>\n",
       "    <tr>\n",
       "      <th>Neuchatel</th>\n",
       "      <td>0.120732</td>\n",
       "      <td>1.00000</td>\n",
       "      <td>1.000000</td>\n",
       "      <td>0.148770</td>\n",
       "      <td>0.806122</td>\n",
       "    </tr>\n",
       "    <tr>\n",
       "      <th>Monthey</th>\n",
       "      <td>0.697561</td>\n",
       "      <td>0.12500</td>\n",
       "      <td>0.064516</td>\n",
       "      <td>0.981762</td>\n",
       "      <td>0.520408</td>\n",
       "    </tr>\n",
       "    <tr>\n",
       "      <th>Broye</th>\n",
       "      <td>0.762195</td>\n",
       "      <td>0.40625</td>\n",
       "      <td>0.193548</td>\n",
       "      <td>0.926742</td>\n",
       "      <td>0.867347</td>\n",
       "    </tr>\n",
       "    <tr>\n",
       "      <th>Paysd'enhaut</th>\n",
       "      <td>0.680488</td>\n",
       "      <td>0.09375</td>\n",
       "      <td>0.064516</td>\n",
       "      <td>0.001639</td>\n",
       "      <td>0.295918</td>\n",
       "    </tr>\n",
       "    <tr>\n",
       "      <th>Le Locle</th>\n",
       "      <td>0.109756</td>\n",
       "      <td>0.59375</td>\n",
       "      <td>0.387097</td>\n",
       "      <td>0.090369</td>\n",
       "      <td>0.387755</td>\n",
       "    </tr>\n",
       "    <tr>\n",
       "      <th>Sion</th>\n",
       "      <td>0.675610</td>\n",
       "      <td>0.31250</td>\n",
       "      <td>0.387097</td>\n",
       "      <td>0.967520</td>\n",
       "      <td>0.306122</td>\n",
       "    </tr>\n",
       "    <tr>\n",
       "      <th>Herens</th>\n",
       "      <td>1.000000</td>\n",
       "      <td>0.06250</td>\n",
       "      <td>0.032258</td>\n",
       "      <td>1.000000</td>\n",
       "      <td>0.326531</td>\n",
       "    </tr>\n",
       "    <tr>\n",
       "      <th>Glane</th>\n",
       "      <td>0.732927</td>\n",
       "      <td>0.34375</td>\n",
       "      <td>0.225806</td>\n",
       "      <td>0.970902</td>\n",
       "      <td>1.000000</td>\n",
       "    </tr>\n",
       "    <tr>\n",
       "      <th>Neuveville</th>\n",
       "      <td>0.436585</td>\n",
       "      <td>0.43750</td>\n",
       "      <td>0.451613</td>\n",
       "      <td>0.028279</td>\n",
       "      <td>0.561224</td>\n",
       "    </tr>\n",
       "    <tr>\n",
       "      <th>Grandson</th>\n",
       "      <td>0.320732</td>\n",
       "      <td>0.43750</td>\n",
       "      <td>0.225806</td>\n",
       "      <td>0.009221</td>\n",
       "      <td>0.500000</td>\n",
       "    </tr>\n",
       "    <tr>\n",
       "      <th>Vevey</th>\n",
       "      <td>0.232927</td>\n",
       "      <td>0.68750</td>\n",
       "      <td>0.580645</td>\n",
       "      <td>0.164549</td>\n",
       "      <td>0.591837</td>\n",
       "    </tr>\n",
       "    <tr>\n",
       "      <th>Martigwy</th>\n",
       "      <td>0.859756</td>\n",
       "      <td>0.28125</td>\n",
       "      <td>0.161290</td>\n",
       "      <td>0.989344</td>\n",
       "      <td>0.438776</td>\n",
       "    </tr>\n",
       "    <tr>\n",
       "      <th>Avenches</th>\n",
       "      <td>0.646341</td>\n",
       "      <td>0.50000</td>\n",
       "      <td>0.354839</td>\n",
       "      <td>0.020799</td>\n",
       "      <td>0.775510</td>\n",
       "    </tr>\n",
       "  </tbody>\n",
       "</table>\n",
       "</div>"
      ],
      "text/plain": [
       "              Agriculture  Examination  Education  Catholic  Infant.Mortality\n",
       "Rolle            0.647561      0.40625   0.290323  0.054508          0.122449\n",
       "Lavaux           0.796341      0.50000   0.258065  0.004508          0.500000\n",
       "Nyone            0.526829      0.59375   0.354839  0.130533          0.163265\n",
       "Conthey          0.953659      0.00000   0.032258  0.997029          0.000000\n",
       "Yverdon          0.509756      0.37500   0.225806  0.037910          0.755102\n",
       "Oron             0.774390      0.28125   0.000000  0.000000          0.602041\n",
       "Cossonay         0.751220      0.59375   0.129032  0.004303          0.367347\n",
       "St Maurice       0.831707      0.18750   0.258065  0.990369          0.275510\n",
       "Franches-Mnt     0.390244      0.06250   0.129032  0.932377          0.520408\n",
       "Orbe             0.565854      0.53125   0.161290  0.018443          0.020408\n",
       "Sarine           0.457317      0.40625   0.387097  0.911680          0.948980\n",
       "La Chauxdfnd     0.000000      0.81250   0.322581  0.116701          0.551020\n",
       "Neuchatel        0.120732      1.00000   1.000000  0.148770          0.806122\n",
       "Monthey          0.697561      0.12500   0.064516  0.981762          0.520408\n",
       "Broye            0.762195      0.40625   0.193548  0.926742          0.867347\n",
       "Paysd'enhaut     0.680488      0.09375   0.064516  0.001639          0.295918\n",
       "Le Locle         0.109756      0.59375   0.387097  0.090369          0.387755\n",
       "Sion             0.675610      0.31250   0.387097  0.967520          0.306122\n",
       "Herens           1.000000      0.06250   0.032258  1.000000          0.326531\n",
       "Glane            0.732927      0.34375   0.225806  0.970902          1.000000\n",
       "Neuveville       0.436585      0.43750   0.451613  0.028279          0.561224\n",
       "Grandson         0.320732      0.43750   0.225806  0.009221          0.500000\n",
       "Vevey            0.232927      0.68750   0.580645  0.164549          0.591837\n",
       "Martigwy         0.859756      0.28125   0.161290  0.989344          0.438776\n",
       "Avenches         0.646341      0.50000   0.354839  0.020799          0.775510"
      ]
     },
     "execution_count": 73,
     "metadata": {},
     "output_type": "execute_result"
    }
   ],
   "source": [
    "X_train_scaled"
   ]
  },
  {
   "cell_type": "code",
   "execution_count": 74,
   "id": "5036d35d",
   "metadata": {},
   "outputs": [
    {
     "data": {
      "text/plain": [
       "['Examination', 'Education', 'Catholic']"
      ]
     },
     "execution_count": 74,
     "metadata": {},
     "output_type": "execute_result"
    }
   ],
   "source": [
    "fe.select_kbest(swiss_df.drop(columns=['Fertility']), swiss_df.Fertility, top=3)"
   ]
  },
  {
   "cell_type": "code",
   "execution_count": 75,
   "id": "5e5906bb",
   "metadata": {},
   "outputs": [
    {
     "name": "stdout",
     "output_type": "stream",
     "text": [
      "3 selected features\n",
      "['Examination', 'Education', 'Infant.Mortality']\n"
     ]
    }
   ],
   "source": [
    "fe.rfe(swiss_df.drop(columns=['Fertility']), swiss_df.Fertility,3)"
   ]
  },
  {
   "cell_type": "markdown",
   "id": "70f3bcf1-35a0-44e5-8637-f2d538858cee",
   "metadata": {},
   "source": [
    "## Recursive Feature Elimination\n",
    "\n",
    "- Fits a model and eliminates the worst performing features\n",
    "- More computationally expensive\n",
    "- Looks at all the features together"
   ]
  },
  {
   "cell_type": "code",
   "execution_count": 76,
   "id": "a9a5375b-29ff-42b7-ab6b-cffd94edb649",
   "metadata": {},
   "outputs": [
    {
     "data": {
      "text/plain": [
       "array([ True,  True, False, False,  True])"
      ]
     },
     "execution_count": 76,
     "metadata": {},
     "output_type": "execute_result"
    }
   ],
   "source": [
    "rfe = RFE(estimator=LinearRegression(), n_features_to_select=3)\n",
    "rfe.fit(X_train_scaled, y_train)\n",
    "rfe.get_support()"
   ]
  },
  {
   "cell_type": "code",
   "execution_count": 77,
   "id": "b8914b8e-c85d-4b76-917a-9e26d39d1bc5",
   "metadata": {},
   "outputs": [
    {
     "data": {
      "text/plain": [
       "array([1, 1, 3, 2, 1])"
      ]
     },
     "execution_count": 77,
     "metadata": {},
     "output_type": "execute_result"
    }
   ],
   "source": [
    "rfe.ranking_"
   ]
  },
  {
   "cell_type": "markdown",
   "id": "8627ebe6-f801-4d97-b901-ce9c686b0d15",
   "metadata": {},
   "source": [
    "<div style=\"border: 1px solid black; border-radius: 3px; background: palegreen; padding: .5em 1em;\">\n",
    "    <p style=\"font-size: 1.3em; font-weight: bold\">Mini Exercise</p>\n",
    "    <ol>\n",
    "        <li>Use <code>RFE</code> and <code>LinearRegression</code> to find the top 3 features that predict fertility in the swiss data set.</li>\n",
    "        <li>Are the results different than what select k best gave you?</li>\n",
    "    </ol>\n",
    "</div>"
   ]
  },
  {
   "cell_type": "code",
   "execution_count": 78,
   "id": "08ae48a2",
   "metadata": {},
   "outputs": [
    {
     "data": {
      "text/html": [
       "<div>\n",
       "<style scoped>\n",
       "    .dataframe tbody tr th:only-of-type {\n",
       "        vertical-align: middle;\n",
       "    }\n",
       "\n",
       "    .dataframe tbody tr th {\n",
       "        vertical-align: top;\n",
       "    }\n",
       "\n",
       "    .dataframe thead th {\n",
       "        text-align: right;\n",
       "    }\n",
       "</style>\n",
       "<table border=\"1\" class=\"dataframe\">\n",
       "  <thead>\n",
       "    <tr style=\"text-align: right;\">\n",
       "      <th></th>\n",
       "      <th>Var</th>\n",
       "      <th>Rank</th>\n",
       "    </tr>\n",
       "  </thead>\n",
       "  <tbody>\n",
       "    <tr>\n",
       "      <th>0</th>\n",
       "      <td>Agriculture</td>\n",
       "      <td>2</td>\n",
       "    </tr>\n",
       "    <tr>\n",
       "      <th>1</th>\n",
       "      <td>Examination</td>\n",
       "      <td>1</td>\n",
       "    </tr>\n",
       "    <tr>\n",
       "      <th>2</th>\n",
       "      <td>Education</td>\n",
       "      <td>4</td>\n",
       "    </tr>\n",
       "    <tr>\n",
       "      <th>3</th>\n",
       "      <td>Catholic</td>\n",
       "      <td>3</td>\n",
       "    </tr>\n",
       "    <tr>\n",
       "      <th>4</th>\n",
       "      <td>Infant.Mortality</td>\n",
       "      <td>1</td>\n",
       "    </tr>\n",
       "  </tbody>\n",
       "</table>\n",
       "</div>"
      ],
      "text/plain": [
       "                Var  Rank\n",
       "0       Agriculture     2\n",
       "1       Examination     1\n",
       "2         Education     4\n",
       "3          Catholic     3\n",
       "4  Infant.Mortality     1"
      ]
     },
     "execution_count": 78,
     "metadata": {},
     "output_type": "execute_result"
    }
   ],
   "source": [
    "#recursive\n",
    "lm=LinearRegression()\n",
    "rfe = RFE(lm, 2)\n",
    "X_rfe = rfe.fit_transform(X_train_scaled,y_train) \n",
    "lm.fit(X_rfe,y_train)\n",
    "\n",
    "var_ranks = rfe.ranking_\n",
    "var_names = X_train_scaled.columns.tolist()\n",
    "\n",
    "pd.DataFrame({'Var': var_names, 'Rank': var_ranks})"
   ]
  },
  {
   "cell_type": "code",
   "execution_count": null,
   "id": "6cb5ed62",
   "metadata": {},
   "outputs": [],
   "source": []
  }
 ],
 "metadata": {
  "kernelspec": {
   "display_name": "Python 3",
   "language": "python",
   "name": "python3"
  },
  "language_info": {
   "codemirror_mode": {
    "name": "ipython",
    "version": 3
   },
   "file_extension": ".py",
   "mimetype": "text/x-python",
   "name": "python",
   "nbconvert_exporter": "python",
   "pygments_lexer": "ipython3",
   "version": "3.8.8"
  }
 },
 "nbformat": 4,
 "nbformat_minor": 5
}
